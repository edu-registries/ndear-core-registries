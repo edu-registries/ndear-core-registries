{
 "cells": [
  {
   "cell_type": "markdown",
   "id": "9245c1f7-2579-40dd-ba17-9e91f6d6dd39",
   "metadata": {},
   "source": [
    "# Invite API E2E Tests"
   ]
  },
  {
   "cell_type": "code",
   "execution_count": 1,
   "id": "25007456-9c2d-4981-bbcb-a2496b8d28fc",
   "metadata": {},
   "outputs": [],
   "source": [
    "import requests\n",
    "import random\n",
    "import string\n",
    "import json"
   ]
  },
  {
   "cell_type": "code",
   "execution_count": 2,
   "id": "22c16507",
   "metadata": {},
   "outputs": [],
   "source": [
    "base_url = \"http://localhost:8081\""
   ]
  },
  {
   "cell_type": "code",
   "execution_count": 3,
   "id": "4c0e4ef1",
   "metadata": {},
   "outputs": [],
   "source": [
    "resp = requests.get(base_url)\n",
    "assert resp.status_code == 404\n",
    "assert resp.json()[\"status\"] == 404\n",
    "assert resp.json()[\"error\"] == \"Not Found\""
   ]
  },
  {
   "cell_type": "code",
   "execution_count": 4,
   "id": "27da0f32",
   "metadata": {},
   "outputs": [],
   "source": [
    "resp = requests.get(\"%s/api/docs/swagger.json\"%base_url)\n",
    "assert resp.status_code == 200\n",
    "assert resp.json()[\"swagger\"] == \"2.0\"\n",
    "assert resp.json()[\"paths\"] != None"
   ]
  },
  {
   "cell_type": "code",
   "execution_count": 5,
   "id": "0edbbada",
   "metadata": {
    "tags": []
   },
   "outputs": [],
   "source": [
    "swaggerJson = resp.json()\n",
    "apiEndpoints = swaggerJson[\"paths\"].keys()\n",
    "assert len(apiEndpoints)==45"
   ]
  },
  {
   "cell_type": "code",
   "execution_count": 6,
   "id": "8bd262de",
   "metadata": {},
   "outputs": [
    {
     "name": "stdout",
     "output_type": "stream",
     "text": [
      "/api/v1/Institute/invite /api/v1/Teacher/invite /api/v1/Student/invite\n"
     ]
    }
   ],
   "source": [
    "inviteUrls = [f for f in swaggerJson[\"paths\"].keys() if \"/invite\" in f]\n",
    "instituteInvite = [u for u in inviteUrls if \"/Institute\" in u][0]\n",
    "teacherInvite = [v for v in inviteUrls if \"/Teacher\" in v][0]\n",
    "studentInvite = [w for w in inviteUrls if \"/Student\" in w][0]\n",
    "print(instituteInvite,teacherInvite,studentInvite)"
   ]
  },
  {
   "cell_type": "code",
   "execution_count": 7,
   "id": "9ad5283a",
   "metadata": {},
   "outputs": [],
   "source": [
    "def entityForTeacher(userId):\n",
    "    return  {\"personalDetails\":{\n",
    "         \"userName\":userId,\n",
    "         \"dob\":\"2020-12-12\",\n",
    "     },\n",
    "      \"IdentityDetails\":{\"type\":\"id\",\"value\":userId}, \n",
    "      \"ContactDetails\":{ \"mobile\":\"%s\"%userId,\"email\":\"%s@example.com\"%userId,\n",
    "                       \"address\":{\"street\":\"abc\",\"state\":\"Karnataka\",\"pincode\":\"560001\"}}\n",
    "     }"
   ]
  },
  {
   "cell_type": "code",
   "execution_count": 8,
   "id": "97ffc686-58f3-43e7-9127-c2d8e1144b81",
   "metadata": {},
   "outputs": [],
   "source": [
    "def entityForStudent(userId):\n",
    "    return  {\n",
    "        \"identityDetails\":{\n",
    "            \"fullName\": \"Student %s\"%userId, \n",
    "            \"gender\": \"Male\"\n",
    "        },\n",
    "        \"ContactDetails\":{\n",
    "            \"mobile\":\"%s\"%userId,\n",
    "            \"email\":\"%s@example.com\"%userId,\n",
    "            \"address\":{\n",
    "                \"street\":\"abc\",\n",
    "                \"state\":\"Karnataka\",\n",
    "                \"pincode\":\"560001\"}},\n",
    "        \"educationDetails\":[{\"institute\":\"Some school\"},\n",
    "                   {\"institute\":\"Some other school\"}]\n",
    "    }"
   ]
  },
  {
   "cell_type": "code",
   "execution_count": 9,
   "id": "c9514066-b023-4572-811f-ca4f5b9b24aa",
   "metadata": {},
   "outputs": [],
   "source": [
    "def entityForInstitute(userId):\n",
    "    return  {\n",
    "        \"instituteName\": \"%s\"%userId,\n",
    "        \"ContactDetails\":{ \"mobile\":\"%s\"%userId,\"email\":\"%s@example.com\"%userId,\n",
    "               \"address\":{\"street\":\"abcde\",\"state\":\"Karnataka\",\"pincode\":\"560001\"}},\n",
    "        \"category\": \"Primary\",\n",
    "        \"schoolType\": \"Co-ed\"\n",
    "    }"
   ]
  },
  {
   "cell_type": "code",
   "execution_count": 10,
   "id": "610a4e3a-cead-48bc-bbe8-f891fc999cee",
   "metadata": {},
   "outputs": [],
   "source": [
    "def getEntityPayload(userId,password):\n",
    "    return {\n",
    "      \"client_id\": \"registry-frontend\",\n",
    "      \"username\": \"%s\"%userId,\n",
    "      \"password\": \"%s\"%password,\n",
    "      \"grant_type\": \"password\"\n",
    "    }\n"
   ]
  },
  {
   "cell_type": "code",
   "execution_count": 11,
   "id": "f911100f-b3b2-4796-aa69-450a1d6844b0",
   "metadata": {},
   "outputs": [
    {
     "data": {
      "text/plain": [
       "{'client_id': 'registry-frontend',\n",
       " 'username': '123',\n",
       " 'password': '424fdcsa',\n",
       " 'grant_type': 'password'}"
      ]
     },
     "execution_count": 11,
     "metadata": {},
     "output_type": "execute_result"
    }
   ],
   "source": [
    "getEntityPayload(123,\"424fdcsa\")"
   ]
  },
  {
   "cell_type": "code",
   "execution_count": 12,
   "id": "b40f98e3-9213-4dc0-8ff9-3809ba5de331",
   "metadata": {},
   "outputs": [
    {
     "data": {
      "text/plain": [
       "{'identityDetails': {'fullName': 'Student 2345', 'gender': 'Male'},\n",
       " 'ContactDetails': {'mobile': '2345',\n",
       "  'email': '2345@example.com',\n",
       "  'address': {'street': 'abc', 'state': 'Karnataka', 'pincode': '560001'}},\n",
       " 'educationDetails': [{'institute': 'Some school'},\n",
       "  {'institute': 'Some other school'}]}"
      ]
     },
     "execution_count": 12,
     "metadata": {},
     "output_type": "execute_result"
    }
   ],
   "source": [
    "entityForStudent(2345)"
   ]
  },
  {
   "cell_type": "code",
   "execution_count": 13,
   "id": "0f25641d-9bb5-449a-88af-b4d954d555bf",
   "metadata": {},
   "outputs": [
    {
     "data": {
      "text/plain": [
       "{'instituteName': '2132157',\n",
       " 'ContactDetails': {'mobile': '2132157',\n",
       "  'email': '2132157@example.com',\n",
       "  'address': {'street': 'abcde', 'state': 'Karnataka', 'pincode': '560001'}},\n",
       " 'category': 'Primary',\n",
       " 'schoolType': 'Co-ed'}"
      ]
     },
     "execution_count": 13,
     "metadata": {},
     "output_type": "execute_result"
    }
   ],
   "source": [
    "entityForInstitute(2132157)"
   ]
  },
  {
   "cell_type": "code",
   "execution_count": 14,
   "id": "a92b78a5-199e-46ae-8e8a-ae667a319e85",
   "metadata": {},
   "outputs": [
    {
     "data": {
      "text/plain": [
       "{'personalDetails': {'userName': 12344, 'dob': '2020-12-12'},\n",
       " 'IdentityDetails': {'type': 'id', 'value': 12344},\n",
       " 'ContactDetails': {'mobile': '12344',\n",
       "  'email': '12344@example.com',\n",
       "  'address': {'street': 'abc', 'state': 'Karnataka', 'pincode': '560001'}}}"
      ]
     },
     "execution_count": 14,
     "metadata": {},
     "output_type": "execute_result"
    }
   ],
   "source": [
    "entityForTeacher(12344)"
   ]
  },
  {
   "cell_type": "code",
   "execution_count": 15,
   "id": "574d727c-3fd1-4907-bd77-ae78f9abbfee",
   "metadata": {},
   "outputs": [],
   "source": [
    "defaultPassowrd = \"abcd@123\""
   ]
  },
  {
   "cell_type": "markdown",
   "id": "749a18fc",
   "metadata": {},
   "source": [
    "# Invite Institution"
   ]
  },
  {
   "cell_type": "code",
   "execution_count": 16,
   "id": "50b054d2-f764-4933-a3a6-f1ba4e332f07",
   "metadata": {},
   "outputs": [
    {
     "data": {
      "text/plain": [
       "'99726221245'"
      ]
     },
     "execution_count": 16,
     "metadata": {},
     "output_type": "execute_result"
    }
   ],
   "source": [
    "instituteId =str(random.randint(1e10,1e11))\n",
    "instituteId"
   ]
  },
  {
   "cell_type": "code",
   "execution_count": 17,
   "id": "0fbcad28",
   "metadata": {},
   "outputs": [
    {
     "name": "stdout",
     "output_type": "stream",
     "text": [
      "b'{\"id\":\"sunbird-rc.registry.invite\",\"ver\":\"1.0\",\"ets\":1645765571833,\"params\":{\"resmsgid\":\"\",\"msgid\":\"901e614e-8933-48f9-9b9b-21aedc58f06d\",\"err\":\"\",\"status\":\"SUCCESSFUL\",\"errmsg\":\"\"},\"responseCode\":\"OK\",\"result\":{\"Institute\":{\"osid\":\"1-3d8385cf-0b81-48e8-9983-182c908fc571\"}}}'\n",
      "{'id': 'sunbird-rc.registry.invite', 'ver': '1.0', 'ets': 1645765571833, 'params': {'resmsgid': '', 'msgid': '901e614e-8933-48f9-9b9b-21aedc58f06d', 'err': '', 'status': 'SUCCESSFUL', 'errmsg': ''}, 'responseCode': 'OK', 'result': {'Institute': {'osid': '1-3d8385cf-0b81-48e8-9983-182c908fc571'}}}\n"
     ]
    }
   ],
   "source": [
    "resp = requests.post(\"%s%s\"%(base_url, instituteInvite), json=entityForInstitute(instituteId)\n",
    ")\n",
    "print(resp.content)\n",
    "assert resp.status_code == 200\n",
    "print(resp.json())\n",
    "assert(resp.json()[\"id\"]==\"sunbird-rc.registry.invite\")\n",
    "assert resp.json()[\"params\"][\"status\"] == \"SUCCESSFUL\"\n",
    "entity_name=next(iter(resp.json()[\"result\"].keys()))\n",
    "assert \"Institute\"==entity_name\n",
    "idx = resp.json()[\"result\"][entity_name][\"osid\"]"
   ]
  },
  {
   "cell_type": "markdown",
   "id": "78c79caa-bb05-4459-b36c-90735122130c",
   "metadata": {},
   "source": [
    "### Set Admin Role for Institution User\n",
    "\n",
    "- Go to Key Cloack Admin Console\n",
    "- Navigate to Users section and find the Institution User with above mentioned Institution Id\n",
    "- Select Role mapping Tab and Add the Role edu-admin to the user"
   ]
  },
  {
   "cell_type": "markdown",
   "id": "20045a8e-ad4d-49bf-8414-f69b021481a3",
   "metadata": {},
   "source": [
    "## Get Token for Institution "
   ]
  },
  {
   "cell_type": "code",
   "execution_count": 18,
   "id": "726e81cb-be9d-42f0-8f7a-59e4c7171803",
   "metadata": {},
   "outputs": [
    {
     "data": {
      "text/plain": [
       "{'client_id': 'registry-frontend',\n",
       " 'username': '99726221245',\n",
       " 'password': 'abcd@123',\n",
       " 'grant_type': 'password'}"
      ]
     },
     "execution_count": 18,
     "metadata": {},
     "output_type": "execute_result"
    }
   ],
   "source": [
    "getEntityPayload(instituteId,defaultPassowrd)"
   ]
  },
  {
   "cell_type": "code",
   "execution_count": 19,
   "id": "5ced090a-c7a1-4c20-9da1-782fc0647850",
   "metadata": {},
   "outputs": [
    {
     "data": {
      "text/plain": [
       "'eyJhbGciOiJSUzI1NiIsInR5cCIgOiAiSldUIiwia2lkIiA6ICJsNGdqQkFjczdDd3BZdE9FUlE4SEQxcUNCYXNrY3BxN2tHcmk1WkFjTWJjIn0.eyJleHAiOjE2NDU3NjYzNTQsImlhdCI6MTY0NTc2NTc1NCwianRpIjoiNDdhZTdkNjYtNWU5ZC00MDBmLWIwMTItNzc1MzFiNDRmODdkIiwiaXNzIjoiaHR0cDovL2tleWNsb2FrOjgwODAvYXV0aC9yZWFsbXMvc3VuYmlyZC1yYyIsImF1ZCI6ImFjY291bnQiLCJzdWIiOiI0Y2Y2ZDQ3YS0yYjc3LTQ1ZTYtOGQ5YS02ZDNjMGMwYWEyNGQiLCJ0eXAiOiJCZWFyZXIiLCJhenAiOiJyZWdpc3RyeS1mcm9udGVuZCIsInNlc3Npb25fc3RhdGUiOiI1MjNkZTNjMy0zNTJhLTRhZjUtOGEwZC1hYTZhNDZmMDE1MjkiLCJhY3IiOiIxIiwiYWxsb3dlZC1vcmlnaW5zIjpbImh0dHBzOi8vbG9jYWxob3N0OjQyMDIiLCJodHRwOi8vbG9jYWxob3N0OjQyMDIiLCJodHRwczovL2xvY2FsaG9zdDo0MjAwIiwiaHR0cHM6Ly9uZGVhci54aXYuaW4iLCJodHRwOi8vbG9jYWxob3N0OjQyMDAiLCJodHRwOi8vbmRlYXIueGl2LmluIiwiaHR0cDovLzIwLjE5OC42NC4xMjgiXSwicmVhbG1fYWNjZXNzIjp7InJvbGVzIjpbImVkdS1hZG1pbiIsIm9mZmxpbmVfYWNjZXNzIiwidW1hX2F1dGhvcml6YXRpb24iLCJkZWZhdWx0LXJvbGVzLW5kZWFyIl19LCJyZXNvdXJjZV9hY2Nlc3MiOnsiYWNjb3VudCI6eyJyb2xlcyI6WyJtYW5hZ2UtYWNjb3VudCIsIm1hbmFnZS1hY2NvdW50LWxpbmtzIiwidmlldy1wcm9maWxlIl19fSwic2NvcGUiOiJwcm9maWxlIGVtYWlsIiwiZW1haWxfdmVyaWZpZWQiOmZhbHNlLCJwcmVmZXJyZWRfdXNlcm5hbWUiOiI5OTcyNjIyMTI0NSIsImVudGl0eSI6WyJJbnN0aXR1dGUiXSwiZW1haWwiOiI5OTcyNjIyMTI0NUBleGFtcGxlLmNvbSJ9.RQE4MxKhV_P-ofF1qK2Bx5drgQOxZUmLTiSremwWDDBSQmeMmwLrd7V4RDaliER_6yg560CwU8MzX1q7PY5N_R3J-fCS02GUk4ClVW1pk_NxTF9GZPVG0GqUJK4IXHLxxsBckIzIVgu8gwpKrzi6hW_HliWktX4EG9k9U-ASGvyw9yEPhX-91VJ-oQxe677kpj1jGLESCjeF5kdzWKUafxE9HAUc22TFrzlsQqqhb6EX5kAUJS5NOnQ8aoWPILNLDkenltEUQ3Cfs6HiUwtpilSpabUSRHmqdiQBzcPv1Mai6grDp1WNyxbsl6U2H3eESbROM7Ut9uI0UdTHrJjsdQ'"
      ]
     },
     "execution_count": 19,
     "metadata": {},
     "output_type": "execute_result"
    }
   ],
   "source": [
    "headers = {\n",
    "    'content-type': 'application/x-www-form-urlencoded',\n",
    "}\n",
    "data = getEntityPayload(instituteId,defaultPassowrd)\n",
    "response = requests.post('http://keycloak:8080/auth/realms/sunbird-rc/protocol/openid-connect/token', headers=headers, data=data)\n",
    "institutionToken = response.json()[\"access_token\"]\n",
    "institutionToken"
   ]
  },
  {
   "cell_type": "markdown",
   "id": "d6adec6a-53e7-4e05-acd7-9972571eab48",
   "metadata": {},
   "source": [
    "# Invite Teacher with Token"
   ]
  },
  {
   "cell_type": "code",
   "execution_count": 20,
   "id": "d00fb8de-d3cd-4ae9-b34e-bd7f6d59a8a2",
   "metadata": {},
   "outputs": [
    {
     "data": {
      "text/plain": [
       "'27790292520'"
      ]
     },
     "execution_count": 20,
     "metadata": {},
     "output_type": "execute_result"
    }
   ],
   "source": [
    "teacherId =str(random.randint(1e10,1e11))\n",
    "teacherId"
   ]
  },
  {
   "cell_type": "markdown",
   "id": "59030c2f-2ebd-4987-be2f-017d405715f8",
   "metadata": {},
   "source": [
    "## Inviting with Invalid Token should give 401 Unautorized Exception"
   ]
  },
  {
   "cell_type": "code",
   "execution_count": 22,
   "id": "420a895b-5a23-4dc8-b712-bab22bfa7b39",
   "metadata": {},
   "outputs": [],
   "source": [
    "headers = {\n",
    "    'content-type': 'application/json',\n",
    "    'authorization': 'bearer %s'%institutionToken+\"someR$andom$^$Inv%alidT@$&ext\",\n",
    "}\n",
    "resp = requests.post(\"%s%s\"%(base_url, teacherInvite), json=entityForTeacher(teacherId),headers= headers)\n",
    "assert resp.status_code == 401"
   ]
  },
  {
   "cell_type": "markdown",
   "id": "838d2ee5-0a80-43f0-94da-cfa8675c5a3b",
   "metadata": {},
   "source": [
    "## Inviting with Valid Token should create Teacher Entity"
   ]
  },
  {
   "cell_type": "code",
   "execution_count": 23,
   "id": "c8ec24f8-4fd1-487a-b332-197fba0fca86",
   "metadata": {},
   "outputs": [
    {
     "name": "stdout",
     "output_type": "stream",
     "text": [
      "b'{\"id\":\"sunbird-rc.registry.invite\",\"ver\":\"1.0\",\"ets\":1645765847524,\"params\":{\"resmsgid\":\"\",\"msgid\":\"050f5cc5-8f34-4ef8-b274-888137e74478\",\"err\":\"\",\"status\":\"SUCCESSFUL\",\"errmsg\":\"\"},\"responseCode\":\"OK\",\"result\":{\"Teacher\":{\"osid\":\"1-911955c7-ffe4-419a-9d55-2cf076f91798\"}}}'\n",
      "{'id': 'sunbird-rc.registry.invite', 'ver': '1.0', 'ets': 1645765847524, 'params': {'resmsgid': '', 'msgid': '050f5cc5-8f34-4ef8-b274-888137e74478', 'err': '', 'status': 'SUCCESSFUL', 'errmsg': ''}, 'responseCode': 'OK', 'result': {'Teacher': {'osid': '1-911955c7-ffe4-419a-9d55-2cf076f91798'}}}\n"
     ]
    }
   ],
   "source": [
    "headers = {\n",
    "    'content-type': 'application/json',\n",
    "    'authorization': 'bearer %s'%institutionToken,\n",
    "}\n",
    "resp = requests.post(\"%s%s\"%(base_url, teacherInvite), json=entityForTeacher(teacherId),headers= headers)\n",
    "print(resp.content)\n",
    "assert resp.status_code == 200\n",
    "print(resp.json())\n",
    "assert(resp.json()[\"id\"]==\"sunbird-rc.registry.invite\")\n",
    "assert resp.json()[\"params\"][\"status\"] == \"SUCCESSFUL\"\n",
    "entity_name=next(iter(resp.json()[\"result\"].keys()))\n",
    "assert \"Teacher\"==entity_name\n",
    "idx = resp.json()[\"result\"][entity_name][\"osid\"]"
   ]
  },
  {
   "cell_type": "markdown",
   "id": "e60479e2-b31c-4e6d-a70d-7b92f471748c",
   "metadata": {},
   "source": [
    "## Set Staff Role for Teacher User\n",
    "- Go to Key Cloack Admin Console\n",
    "- Navigate to Users section and find the Teacher User with above mentioned Teacher Id\n",
    "- Select Role mapping Tab and Add the Role edu-staff to the user"
   ]
  },
  {
   "cell_type": "markdown",
   "id": "eb52bbd6-3f27-4079-890d-a4f5d45fcfde",
   "metadata": {},
   "source": [
    "## Get Token for Teacher"
   ]
  },
  {
   "cell_type": "code",
   "execution_count": 25,
   "id": "3240d7d9-d639-45fd-91a1-4a53e7621f79",
   "metadata": {},
   "outputs": [],
   "source": [
    "headers = {\n",
    "    'content-type': 'application/x-www-form-urlencoded',\n",
    "}\n",
    "data = getEntityPayload(teacherId,defaultPassowrd)\n",
    "response = requests.post('http://keycloak:8080/auth/realms/sunbird-rc/protocol/openid-connect/token', headers=headers, data=data)\n",
    "teacherToken = response.json()[\"access_token\"]"
   ]
  },
  {
   "cell_type": "code",
   "execution_count": 26,
   "id": "dd597e58-10d6-4a19-85ba-bab0fb98f283",
   "metadata": {},
   "outputs": [
    {
     "data": {
      "text/plain": [
       "'eyJhbGciOiJSUzI1NiIsInR5cCIgOiAiSldUIiwia2lkIiA6ICJsNGdqQkFjczdDd3BZdE9FUlE4SEQxcUNCYXNrY3BxN2tHcmk1WkFjTWJjIn0.eyJleHAiOjE2NDU3NjY0OTYsImlhdCI6MTY0NTc2NTg5NiwianRpIjoiOTVhNDE0ZDAtMDEzOC00OGVkLTgwMTItMjE2MzY5NDRiN2I4IiwiaXNzIjoiaHR0cDovL2tleWNsb2FrOjgwODAvYXV0aC9yZWFsbXMvc3VuYmlyZC1yYyIsImF1ZCI6ImFjY291bnQiLCJzdWIiOiI0OTVlN2RkNy0yZGVjLTRiYTktYmNlZi01NzgzNjAyMjg2NjgiLCJ0eXAiOiJCZWFyZXIiLCJhenAiOiJyZWdpc3RyeS1mcm9udGVuZCIsInNlc3Npb25fc3RhdGUiOiI4ODJlMGYwMS00NjAyLTQyNjAtOTlhNy0wZDIyNmYzZTUwOGUiLCJhY3IiOiIxIiwiYWxsb3dlZC1vcmlnaW5zIjpbImh0dHBzOi8vbG9jYWxob3N0OjQyMDIiLCJodHRwOi8vbG9jYWxob3N0OjQyMDIiLCJodHRwczovL2xvY2FsaG9zdDo0MjAwIiwiaHR0cHM6Ly9uZGVhci54aXYuaW4iLCJodHRwOi8vbG9jYWxob3N0OjQyMDAiLCJodHRwOi8vbmRlYXIueGl2LmluIiwiaHR0cDovLzIwLjE5OC42NC4xMjgiXSwicmVhbG1fYWNjZXNzIjp7InJvbGVzIjpbIm9mZmxpbmVfYWNjZXNzIiwiZWR1LXN0YWZmIiwidW1hX2F1dGhvcml6YXRpb24iLCJkZWZhdWx0LXJvbGVzLW5kZWFyIl19LCJyZXNvdXJjZV9hY2Nlc3MiOnsiYWNjb3VudCI6eyJyb2xlcyI6WyJtYW5hZ2UtYWNjb3VudCIsIm1hbmFnZS1hY2NvdW50LWxpbmtzIiwidmlldy1wcm9maWxlIl19fSwic2NvcGUiOiJwcm9maWxlIGVtYWlsIiwiZW1haWxfdmVyaWZpZWQiOmZhbHNlLCJwcmVmZXJyZWRfdXNlcm5hbWUiOiIyNzc5MDI5MjUyMCIsImVudGl0eSI6WyJUZWFjaGVyIl0sImVtYWlsIjoiMjc3OTAyOTI1MjBAZXhhbXBsZS5jb20ifQ.Pv2ml5W_qrU8kQxlHL40FKXKuGV3p5jw3hSX1bTfbJoTSptDrJshJYYfXYS01mNClpblW-mS8pY6mJRdF-i2642KF3QS5NJoEzYDjvpw_sTQbYznfzF2BhUrg8KU5sL0vdI3goRIBxtvtkqR2MNPauzBnGT31rAQTjAoJTyv0Ly_isqXG7Iy_KNBm_117TI0bgPa0Yk8CJV3e4FzszMw3DB029qwOpCqPIbwGA2SoJuSB5ZvZiAQm990_n7JTN6eRioW6Q85U0gkkUU0pZ3cz8PAt17NUy5EHBfPJqfJmf3qqp8NNeMzvT20zRXGdu0Ev0bdPHqVvpTkcFVfDCUeuA'"
      ]
     },
     "execution_count": 26,
     "metadata": {},
     "output_type": "execute_result"
    }
   ],
   "source": [
    "teacherToken"
   ]
  },
  {
   "cell_type": "markdown",
   "id": "6eb1a18e",
   "metadata": {},
   "source": [
    "## Invite a new Student"
   ]
  },
  {
   "cell_type": "code",
   "execution_count": 27,
   "id": "d3d592a2-d9e1-4832-b518-56090da491af",
   "metadata": {},
   "outputs": [
    {
     "data": {
      "text/plain": [
       "'73653668481'"
      ]
     },
     "execution_count": 27,
     "metadata": {},
     "output_type": "execute_result"
    }
   ],
   "source": [
    "studentId =str(random.randint(1e10,1e11))\n",
    "studentId"
   ]
  },
  {
   "cell_type": "markdown",
   "id": "73533fd5-92a5-4117-8524-51c1d61db47f",
   "metadata": {},
   "source": [
    "### Anonymously"
   ]
  },
  {
   "cell_type": "code",
   "execution_count": 28,
   "id": "25a935b9-5ac1-4c4b-9af0-6656ba989f63",
   "metadata": {},
   "outputs": [
    {
     "ename": "AssertionError",
     "evalue": "",
     "output_type": "error",
     "traceback": [
      "\u001b[0;31m---------------------------------------------------------------------------\u001b[0m",
      "\u001b[0;31mAssertionError\u001b[0m                            Traceback (most recent call last)",
      "Input \u001b[0;32mIn [28]\u001b[0m, in \u001b[0;36m<module>\u001b[0;34m\u001b[0m\n\u001b[1;32m      4\u001b[0m resp \u001b[38;5;241m=\u001b[39m requests\u001b[38;5;241m.\u001b[39mpost(\u001b[38;5;124m\"\u001b[39m\u001b[38;5;132;01m%s\u001b[39;00m\u001b[38;5;132;01m%s\u001b[39;00m\u001b[38;5;124m\"\u001b[39m\u001b[38;5;241m%\u001b[39m(base_url, studentInvite), json\u001b[38;5;241m=\u001b[39mentityForStudent(studentId),headers\u001b[38;5;241m=\u001b[39m headers)\n\u001b[1;32m      5\u001b[0m \u001b[38;5;28;01massert\u001b[39;00m resp\u001b[38;5;241m.\u001b[39mjson()[\u001b[38;5;124m'\u001b[39m\u001b[38;5;124mparams\u001b[39m\u001b[38;5;124m'\u001b[39m][\u001b[38;5;124m'\u001b[39m\u001b[38;5;124mstatus\u001b[39m\u001b[38;5;124m'\u001b[39m] \u001b[38;5;241m==\u001b[39m \u001b[38;5;124m'\u001b[39m\u001b[38;5;124mUNSUCCESSFUL\u001b[39m\u001b[38;5;124m'\u001b[39m\n\u001b[0;32m----> 6\u001b[0m \u001b[38;5;28;01massert\u001b[39;00m resp\u001b[38;5;241m.\u001b[39mstatus_code \u001b[38;5;241m==\u001b[39m \u001b[38;5;241m401\u001b[39m\n\u001b[1;32m      7\u001b[0m \u001b[38;5;28mprint\u001b[39m(resp\u001b[38;5;241m.\u001b[39mjson())\n",
      "\u001b[0;31mAssertionError\u001b[0m: "
     ]
    }
   ],
   "source": [
    "headers = {\n",
    "    'content-type': 'application/json'\n",
    "}\n",
    "resp = requests.post(\"%s%s\"%(base_url, studentInvite), json=entityForStudent(studentId),headers= headers)\n",
    "assert resp.json()['params']['status'] == 'UNSUCCESSFUL'\n",
    "assert resp.status_code == 401\n",
    "print(resp.json())"
   ]
  },
  {
   "cell_type": "markdown",
   "id": "9cebe859-a67b-4256-8221-651183c018c9",
   "metadata": {},
   "source": [
    "### With Institution Token"
   ]
  },
  {
   "cell_type": "code",
   "execution_count": 30,
   "id": "8e86b083-2784-48ce-a386-0459bcf51db7",
   "metadata": {},
   "outputs": [
    {
     "name": "stdout",
     "output_type": "stream",
     "text": [
      "<Response [200]>\n"
     ]
    }
   ],
   "source": [
    "headers = {\n",
    "    'content-type': 'application/json',\n",
    "    'authorization': 'bearer %s'%institutionToken,\n",
    "}\n",
    "data = entityForStudent(studentId)\n",
    "resp = requests.post(\"%s%s\"%(base_url, studentInvite), json=data,headers=headers)\n",
    "assert resp.status_code == 200\n",
    "print(resp)"
   ]
  },
  {
   "cell_type": "code",
   "execution_count": 31,
   "id": "6413698d-837a-448d-9582-8f50a7e505ec",
   "metadata": {},
   "outputs": [
    {
     "name": "stdout",
     "output_type": "stream",
     "text": [
      "{'id': 'sunbird-rc.registry.invite', 'ver': '1.0', 'ets': 1645766034540, 'params': {'resmsgid': '', 'msgid': '5f44ee61-7bb4-4773-9690-43a689f7978f', 'err': '', 'status': 'SUCCESSFUL', 'errmsg': ''}, 'responseCode': 'OK', 'result': {'Student': {'osid': '1-58f87294-f325-404a-9958-82722225d132'}}}\n"
     ]
    }
   ],
   "source": [
    "assert resp.status_code == 200\n",
    "print(resp.json())\n",
    "assert(resp.json()[\"id\"]==\"sunbird-rc.registry.invite\")\n",
    "assert resp.json()[\"params\"][\"status\"] == \"SUCCESSFUL\"\n",
    "entity_name=next(iter(resp.json()[\"result\"].keys()))\n",
    "assert \"Student\"==entity_name\n",
    "idx = resp.json()[\"result\"][entity_name][\"osid\"]"
   ]
  },
  {
   "cell_type": "markdown",
   "id": "9e19ae6c-d94c-4e3d-9f22-9e515b10f08d",
   "metadata": {},
   "source": [
    "### With Teacher Token"
   ]
  },
  {
   "cell_type": "code",
   "execution_count": 32,
   "id": "b885d374-049e-4df5-a93d-3ae61f8a7870",
   "metadata": {},
   "outputs": [
    {
     "data": {
      "text/plain": [
       "'93493876537'"
      ]
     },
     "execution_count": 32,
     "metadata": {},
     "output_type": "execute_result"
    }
   ],
   "source": [
    "studentId2 =str(random.randint(1e10,1e11))\n",
    "studentId2"
   ]
  },
  {
   "cell_type": "code",
   "execution_count": 33,
   "id": "f85dc761",
   "metadata": {},
   "outputs": [
    {
     "name": "stdout",
     "output_type": "stream",
     "text": [
      "<Response [200]>\n"
     ]
    }
   ],
   "source": [
    "headers = {\n",
    "    'content-type': 'application/json',\n",
    "    'authorization': 'bearer %s'%teacherToken,\n",
    "}\n",
    "resp = requests.post(\"%s%s\"%(base_url, studentInvite), json=entityForStudent(studentId2),headers=headers)\n",
    "print(resp)\n",
    "assert resp.status_code == 200"
   ]
  },
  {
   "cell_type": "code",
   "execution_count": 34,
   "id": "a5209485-1f61-4e64-aae1-015dbcd27549",
   "metadata": {},
   "outputs": [],
   "source": [
    "assert(resp.json()[\"id\"]==\"sunbird-rc.registry.invite\")\n",
    "assert resp.json()[\"params\"][\"status\"] == \"SUCCESSFUL\"\n",
    "entity_name=next(iter(resp.json()[\"result\"].keys()))\n",
    "assert \"Student\"==entity_name\n",
    "idx = resp.json()[\"result\"][entity_name][\"osid\"]"
   ]
  },
  {
   "cell_type": "markdown",
   "id": "5c3f5e4c-fffe-4594-85c8-6cfef5239265",
   "metadata": {},
   "source": [
    "### With Student Token"
   ]
  },
  {
   "cell_type": "code",
   "execution_count": 35,
   "id": "e9613d96-ab40-4174-a8c5-2ae9ae7b98e3",
   "metadata": {},
   "outputs": [
    {
     "data": {
      "text/plain": [
       "'15120976649'"
      ]
     },
     "execution_count": 35,
     "metadata": {},
     "output_type": "execute_result"
    }
   ],
   "source": [
    "studentId3 =str(random.randint(1e10,1e11))\n",
    "studentId3"
   ]
  },
  {
   "cell_type": "code",
   "execution_count": 38,
   "id": "c0f393e7-2329-4951-84a1-394d8980d27f",
   "metadata": {},
   "outputs": [],
   "source": [
    "headers = {\n",
    "    'content-type': 'application/x-www-form-urlencoded',\n",
    "}\n",
    "data = getEntityPayload(studentId,defaultPassowrd)\n",
    "response = requests.post('http://keycloak:8080/auth/realms/sunbird-rc/protocol/openid-connect/token', headers=headers, data=data)\n",
    "studentToken = response.json()[\"access_token\"]"
   ]
  },
  {
   "cell_type": "code",
   "execution_count": 39,
   "id": "e6044c61-56f1-4b41-bc94-ecd1515a0342",
   "metadata": {},
   "outputs": [
    {
     "name": "stdout",
     "output_type": "stream",
     "text": [
      "<Response [200]>\n"
     ]
    },
    {
     "ename": "AssertionError",
     "evalue": "",
     "output_type": "error",
     "traceback": [
      "\u001b[0;31m---------------------------------------------------------------------------\u001b[0m",
      "\u001b[0;31mAssertionError\u001b[0m                            Traceback (most recent call last)",
      "Input \u001b[0;32mIn [39]\u001b[0m, in \u001b[0;36m<module>\u001b[0;34m\u001b[0m\n\u001b[1;32m      5\u001b[0m resp \u001b[38;5;241m=\u001b[39m requests\u001b[38;5;241m.\u001b[39mpost(\u001b[38;5;124m\"\u001b[39m\u001b[38;5;132;01m%s\u001b[39;00m\u001b[38;5;132;01m%s\u001b[39;00m\u001b[38;5;124m\"\u001b[39m\u001b[38;5;241m%\u001b[39m(base_url, studentInvite), json\u001b[38;5;241m=\u001b[39mentityForStudent(studentId3),headers\u001b[38;5;241m=\u001b[39mheaders)\n\u001b[1;32m      6\u001b[0m \u001b[38;5;28mprint\u001b[39m(resp)\n\u001b[0;32m----> 7\u001b[0m \u001b[38;5;28;01massert\u001b[39;00m resp\u001b[38;5;241m.\u001b[39mstatus_code \u001b[38;5;241m==\u001b[39m \u001b[38;5;241m401\u001b[39m\n",
      "\u001b[0;31mAssertionError\u001b[0m: "
     ]
    }
   ],
   "source": [
    "headers = {\n",
    "    'content-type': 'application/json',\n",
    "    'authorization': 'bearer %s'%studentToken,\n",
    "}\n",
    "resp = requests.post(\"%s%s\"%(base_url, studentInvite), json=entityForStudent(studentId3),headers=headers)\n",
    "print(resp)\n",
    "assert resp.status_code == 401"
   ]
  },
  {
   "cell_type": "code",
   "execution_count": null,
   "id": "0dc8df93-fd6f-479e-92a8-d840a3c484bd",
   "metadata": {},
   "outputs": [],
   "source": []
  }
 ],
 "metadata": {
  "kernelspec": {
   "display_name": "Python 3 (ipykernel)",
   "language": "python",
   "name": "python3"
  },
  "language_info": {
   "codemirror_mode": {
    "name": "ipython",
    "version": 3
   },
   "file_extension": ".py",
   "mimetype": "text/x-python",
   "name": "python",
   "nbconvert_exporter": "python",
   "pygments_lexer": "ipython3",
   "version": "3.9.7"
  }
 },
 "nbformat": 4,
 "nbformat_minor": 5
}
