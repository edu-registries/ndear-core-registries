{
 "cells": [
  {
   "cell_type": "code",
   "execution_count": 1,
   "id": "3f0dd619",
   "metadata": {},
   "outputs": [],
   "source": [
    "import requests\n",
    "import random\n",
    "import json"
   ]
  },
  {
   "cell_type": "code",
   "execution_count": 2,
   "id": "22c16507",
   "metadata": {},
   "outputs": [],
   "source": [
    "base_url = \"http://localhost:8081\""
   ]
  },
  {
   "cell_type": "code",
   "execution_count": 3,
   "id": "4c0e4ef1",
   "metadata": {},
   "outputs": [],
   "source": [
    "resp = requests.get(base_url)\n",
    "assert resp.status_code == 404\n",
    "assert resp.json()[\"status\"] == 404\n",
    "assert resp.json()[\"error\"] == \"Not Found\""
   ]
  },
  {
   "cell_type": "code",
   "execution_count": 4,
   "id": "27da0f32",
   "metadata": {},
   "outputs": [],
   "source": [
    "resp = requests.get(\"%s/api/docs/swagger.json\"%base_url)\n",
    "assert resp.status_code == 200\n",
    "assert resp.json()[\"swagger\"] == \"2.0\"\n",
    "assert resp.json()[\"paths\"] != None"
   ]
  },
  {
   "cell_type": "code",
   "execution_count": 5,
   "id": "0edbbada",
   "metadata": {},
   "outputs": [],
   "source": [
    "swaggerJson = resp.json()\n",
    "apiEndpoints = swaggerJson[\"paths\"].keys()\n",
    "assert len(apiEndpoints)==45"
   ]
  },
  {
   "cell_type": "code",
   "execution_count": 6,
   "id": "96d0bcfe",
   "metadata": {},
   "outputs": [
    {
     "name": "stdout",
     "output_type": "stream",
     "text": [
      "/api/v1/Institute/invite /api/v1/Teacher/invite /api/v1/Student/invite\n"
     ]
    }
   ],
   "source": [
    "inviteUrls = [f for f in swaggerJson[\"paths\"].keys() if \"/invite\" in f]\n",
    "instituteInvite = [u for u in inviteUrls if \"/Institute\" in u][0]\n",
    "teacherInvite = [v for v in inviteUrls if \"/Teacher\" in v][0]\n",
    "studentInvite = [w for w in inviteUrls if \"/Student\" in w][0]\n",
    "print(instituteInvite,teacherInvite,studentInvite)"
   ]
  },
  {
   "cell_type": "code",
   "execution_count": 7,
   "id": "10c6b286-ed43-428e-8c85-5a62ca3e9a9e",
   "metadata": {},
   "outputs": [],
   "source": [
    "def entityForTeacher(userId):\n",
    "    return  {\"personalDetails\":{\n",
    "         \"userName\":userId,\n",
    "         \"dob\":\"2020-12-12\",\n",
    "     },\n",
    "      \"IdentityDetails\":{\"type\":\"id\",\"value\":userId}, \n",
    "      \"ContactDetails\":{ \"mobile\":\"%s\"%userId,\"email\":\"%s@example.com\"%userId,\n",
    "                       \"address\":{\"street\":\"abc\",\"state\":\"Karnataka\",\"pincode\":\"560001\"}}\n",
    "     }"
   ]
  },
  {
   "cell_type": "code",
   "execution_count": 36,
   "id": "99c5a840-d9b5-4d5a-9e8b-268bbcd323ad",
   "metadata": {},
   "outputs": [],
   "source": [
    "def entityForTeacherWithExperiance(userId,instituteId):\n",
    "    return  {\"personalDetails\":{\n",
    "         \"userName\":userId,\n",
    "         \"dob\":\"2020-12-12\",\n",
    "     },\n",
    "      \"IdentityDetails\":{\"type\":\"id\",\"value\":userId}, \n",
    "      \"ContactDetails\":{ \"mobile\":\"%s\"%userId,\"email\":\"%s@example.com\"%userId,\n",
    "                       \"address\":{\"street\":\"abc\",\"state\":\"Karnataka\",\"pincode\":\"560001\"}},\n",
    "      \"academicQualifications\":[{\"institute\":\"%s_1\"%instituteId}],\n",
    "      \"experience\":[{\"institute\":\"%s\"%instituteId}]\n",
    "     }"
   ]
  },
  {
   "cell_type": "code",
   "execution_count": 9,
   "id": "5d9b8d51-2030-42be-84db-1d203eba8d2d",
   "metadata": {},
   "outputs": [],
   "source": [
    "def entityForStudent(userId,instituteId):\n",
    "    return  {\n",
    "        \"identityDetails\":{\n",
    "            \"fullName\": \"Student %s\"%userId, \n",
    "            \"gender\": \"Male\"\n",
    "        },\n",
    "        \"ContactDetails\":{\n",
    "            \"mobile\":\"%s\"%userId,\n",
    "            \"email\":\"%s@example.com\"%userId,\n",
    "            \"address\":{\n",
    "                \"street\":\"abc\",\n",
    "                \"state\":\"Karnataka\",\n",
    "                \"pincode\":\"560001\"}},\n",
    "        \"educationDetails\":[\n",
    "            {\n",
    "                \"institute\":\"%s\"%instituteId,\n",
    "                \"program\":\"Engineering\",\n",
    "                \"graduationYear\":\"2017\",\n",
    "                \"marks\":\"95\"\n",
    "            }\n",
    "        ]\n",
    "    }"
   ]
  },
  {
   "cell_type": "code",
   "execution_count": 10,
   "id": "5813bca1-9bb1-4976-82f9-93aaf5e1bf72",
   "metadata": {},
   "outputs": [],
   "source": [
    "def entityForInstitute(userId):\n",
    "    return  {\n",
    "        \"instituteName\": \"%s\"%userId,\n",
    "        \"ContactDetails\":{ \"mobile\":\"%s\"%userId,\"email\":\"%s@example.com\"%userId,\n",
    "               \"address\":{\"street\":\"abcde\",\"state\":\"Karnataka\",\"pincode\":\"560001\"}},\n",
    "        \"category\": \"Primary\",\n",
    "        \"schoolType\": \"Co-ed\"\n",
    "    }"
   ]
  },
  {
   "cell_type": "code",
   "execution_count": 11,
   "id": "ce3d61d5-8a09-46d8-9f00-cb38f9d4ede9",
   "metadata": {},
   "outputs": [],
   "source": [
    "def getEntityPayload(userId,password):\n",
    "    return {\n",
    "      \"client_id\": \"registry-frontend\",\n",
    "      \"username\": \"%s\"%userId,\n",
    "      \"password\": \"%s\"%password,\n",
    "      \"grant_type\": \"password\"\n",
    "    }\n"
   ]
  },
  {
   "cell_type": "code",
   "execution_count": 12,
   "id": "a2f193c3-f0b0-40d7-aa9c-191b36496d85",
   "metadata": {},
   "outputs": [],
   "source": [
    "defaultPassowrd = \"abcd@123\""
   ]
  },
  {
   "cell_type": "code",
   "execution_count": 13,
   "id": "a16526f9-9c34-445c-b869-a33641999435",
   "metadata": {},
   "outputs": [
    {
     "data": {
      "text/plain": [
       "{'identityDetails': {'fullName': 'Student 2345', 'gender': 'Male'},\n",
       " 'ContactDetails': {'mobile': '2345',\n",
       "  'email': '2345@example.com',\n",
       "  'address': {'street': 'abc', 'state': 'Karnataka', 'pincode': '560001'}},\n",
       " 'educationDetails': [{'institute': '4567899',\n",
       "   'program': 'Engineering',\n",
       "   'graduationYear': '2017',\n",
       "   'marks': '95'}]}"
      ]
     },
     "execution_count": 13,
     "metadata": {},
     "output_type": "execute_result"
    }
   ],
   "source": [
    "entityForStudent(2345,\"4567899\")"
   ]
  },
  {
   "cell_type": "code",
   "execution_count": 37,
   "id": "fadc1c6c-db11-4cb9-83c2-ad70a93d06b1",
   "metadata": {},
   "outputs": [
    {
     "data": {
      "text/plain": [
       "{'personalDetails': {'userName': 2345, 'dob': '2020-12-12'},\n",
       " 'IdentityDetails': {'type': 'id', 'value': 2345},\n",
       " 'ContactDetails': {'mobile': '2345',\n",
       "  'email': '2345@example.com',\n",
       "  'address': {'street': 'abc', 'state': 'Karnataka', 'pincode': '560001'}},\n",
       " 'academicQualifications': [{'institute': '4567899_1'}],\n",
       " 'experience': [{'institute': '4567899'}]}"
      ]
     },
     "execution_count": 37,
     "metadata": {},
     "output_type": "execute_result"
    }
   ],
   "source": [
    "entityForTeacherWithExperiance(2345,\"4567899\")"
   ]
  },
  {
   "cell_type": "code",
   "execution_count": 15,
   "id": "8f08b374-4400-4a91-a926-65e5da42b5ab",
   "metadata": {},
   "outputs": [
    {
     "data": {
      "text/plain": [
       "{'personalDetails': {'userName': 2345, 'dob': '2020-12-12'},\n",
       " 'IdentityDetails': {'type': 'id', 'value': 2345},\n",
       " 'ContactDetails': {'mobile': '2345',\n",
       "  'email': '2345@example.com',\n",
       "  'address': {'street': 'abc', 'state': 'Karnataka', 'pincode': '560001'}}}"
      ]
     },
     "execution_count": 15,
     "metadata": {},
     "output_type": "execute_result"
    }
   ],
   "source": [
    "entityForTeacher(2345)"
   ]
  },
  {
   "cell_type": "markdown",
   "id": "749a18fc",
   "metadata": {},
   "source": [
    "# invite"
   ]
  },
  {
   "cell_type": "markdown",
   "id": "63ec1a7e-fef2-4d55-a79b-9527049f7be9",
   "metadata": {},
   "source": [
    "### Institute"
   ]
  },
  {
   "cell_type": "code",
   "execution_count": 16,
   "id": "289d97d3-d68c-448b-9fe7-5cd62f90be90",
   "metadata": {},
   "outputs": [
    {
     "data": {
      "text/plain": [
       "'97054657802'"
      ]
     },
     "execution_count": 16,
     "metadata": {},
     "output_type": "execute_result"
    }
   ],
   "source": [
    "instituteId_1 =str(random.randint(1e10,1e11))\n",
    "instituteId_1"
   ]
  },
  {
   "cell_type": "code",
   "execution_count": 17,
   "id": "9b2d7b2e-3e6d-4246-8cb7-db18f7c1c254",
   "metadata": {},
   "outputs": [
    {
     "data": {
      "text/plain": [
       "'17022784195'"
      ]
     },
     "execution_count": 17,
     "metadata": {},
     "output_type": "execute_result"
    }
   ],
   "source": [
    "instituteId_2 =str(random.randint(1e10,1e11))\n",
    "instituteId_2"
   ]
  },
  {
   "cell_type": "code",
   "execution_count": 20,
   "id": "8f09990c-d312-4e76-95ed-78be76d6c77e",
   "metadata": {},
   "outputs": [
    {
     "name": "stdout",
     "output_type": "stream",
     "text": [
      "b'{\"id\":\"sunbird-rc.registry.invite\",\"ver\":\"1.0\",\"ets\":1646885432520,\"params\":{\"resmsgid\":\"\",\"msgid\":\"f4526673-beb9-4299-81cb-05be674c6a50\",\"err\":\"\",\"status\":\"SUCCESSFUL\",\"errmsg\":\"\"},\"responseCode\":\"OK\",\"result\":{\"Institute\":{\"osid\":\"1-4f0a9b74-6d29-41b3-8b5c-ceab36ccf39f\"}}}'\n",
      "{'id': 'sunbird-rc.registry.invite', 'ver': '1.0', 'ets': 1646885432520, 'params': {'resmsgid': '', 'msgid': 'f4526673-beb9-4299-81cb-05be674c6a50', 'err': '', 'status': 'SUCCESSFUL', 'errmsg': ''}, 'responseCode': 'OK', 'result': {'Institute': {'osid': '1-4f0a9b74-6d29-41b3-8b5c-ceab36ccf39f'}}}\n"
     ]
    },
    {
     "data": {
      "text/plain": [
       "'1-4f0a9b74-6d29-41b3-8b5c-ceab36ccf39f'"
      ]
     },
     "execution_count": 20,
     "metadata": {},
     "output_type": "execute_result"
    }
   ],
   "source": [
    "resp = requests.post(\"%s%s\"%(base_url, instituteInvite), json=entityForInstitute(instituteId_1)\n",
    ")\n",
    "print(resp.content)\n",
    "assert resp.status_code == 200\n",
    "print(resp.json())\n",
    "assert(resp.json()[\"id\"]==\"sunbird-rc.registry.invite\")\n",
    "assert resp.json()[\"params\"][\"status\"] == \"SUCCESSFUL\"\n",
    "entity_name=next(iter(resp.json()[\"result\"].keys()))\n",
    "assert \"Institute\"==entity_name\n",
    "instituteOsId = resp.json()[\"result\"][entity_name][\"osid\"]\n",
    "instituteOsId"
   ]
  },
  {
   "cell_type": "markdown",
   "id": "427c617e-57c9-4dca-a528-f1b227d54e7e",
   "metadata": {},
   "source": [
    "### Institute Token"
   ]
  },
  {
   "cell_type": "code",
   "execution_count": 43,
   "id": "9e5c997a",
   "metadata": {},
   "outputs": [
    {
     "data": {
      "text/plain": [
       "'eyJhbGciOiJSUzI1NiIsInR5cCIgOiAiSldUIiwia2lkIiA6ICJZcGNvVHQ4bTBveXZkbjY4dU9icE0zX1REZWwzbXFhWXA5d19hX19PY3g0In0.eyJleHAiOjE2NDY4ODgxNzIsImlhdCI6MTY0Njg4NzU3MiwianRpIjoiNGI3Yzg2OTctZDdjMy00OGE3LTliMDItZDNlZWFmMTQyZjAwIiwiaXNzIjoiaHR0cDovL2tleWNsb2FrOjgwODAvYXV0aC9yZWFsbXMvc3VuYmlyZC1yYyIsImF1ZCI6ImFjY291bnQiLCJzdWIiOiJiY2ZlODY4Mi1kODU4LTQ5NjktYTdiMy0yYTNmY2U0OGYzNzYiLCJ0eXAiOiJCZWFyZXIiLCJhenAiOiJyZWdpc3RyeS1mcm9udGVuZCIsInNlc3Npb25fc3RhdGUiOiJiZGVmNWM1Yy01NjQxLTQ4YTItYWVmYi0xNTc4YTViODAyNDUiLCJhY3IiOiIxIiwiYWxsb3dlZC1vcmlnaW5zIjpbImh0dHBzOi8vbG9jYWxob3N0OjQyMDIiLCJodHRwOi8vbG9jYWxob3N0OjQyMDIiLCJodHRwczovL2xvY2FsaG9zdDo0MjAwIiwiaHR0cHM6Ly9uZGVhci54aXYuaW4iLCJodHRwOi8vbG9jYWxob3N0OjQyMDAiLCJodHRwOi8vbmRlYXIueGl2LmluIiwiaHR0cDovLzIwLjE5OC42NC4xMjgiXSwicmVhbG1fYWNjZXNzIjp7InJvbGVzIjpbImVkdS1hZG1pbiIsIm9mZmxpbmVfYWNjZXNzIiwidW1hX2F1dGhvcml6YXRpb24iLCJkZWZhdWx0LXJvbGVzLW5kZWFyIl19LCJyZXNvdXJjZV9hY2Nlc3MiOnsiYWNjb3VudCI6eyJyb2xlcyI6WyJtYW5hZ2UtYWNjb3VudCIsIm1hbmFnZS1hY2NvdW50LWxpbmtzIiwidmlldy1wcm9maWxlIl19fSwic2NvcGUiOiJwcm9maWxlIGVtYWlsIiwiZW1haWxfdmVyaWZpZWQiOmZhbHNlLCJwcmVmZXJyZWRfdXNlcm5hbWUiOiI5NzA1NDY1NzgwMiIsImVudGl0eSI6WyJJbnN0aXR1dGUiXSwiZW1haWwiOiI5NzA1NDY1NzgwMkBleGFtcGxlLmNvbSJ9.O0zXGG25-FVmpnWnIyFH2Q6zEX8YD5egeo1l7IOlMGsmSIduTxORjNc4bCSKK9mKj_fJvvzdVYF2Yoz3qYazhGxqYuxm5HErkKm1YiYy8hFxEjtO71uT_uX1tI26gEI8id6Rs7y_GmQs-rOZyb0O2eHPLEgaiqtOaCHvqdRwmv1LuaosL3kKkE56h6Z8ixfWQTy_tTx1cG5V4IlwVw8-Usb5OZ7iQPqOj0yy0ed8eOCEgt7eAoE4Rf5r-_90eRgBaw_uzan-IgbpfCLnSKP17LFFWNfxcBPEtG4PWl5wwJ8QuDQNMG62Uw5am5TPqSGeOuPrbU5pq7ocdJ3jgO8usQ'"
      ]
     },
     "execution_count": 43,
     "metadata": {},
     "output_type": "execute_result"
    }
   ],
   "source": [
    "headers = {\n",
    "    'content-type': 'application/x-www-form-urlencoded',\n",
    "}\n",
    "data = getEntityPayload(instituteId_1,defaultPassowrd)\n",
    "response = requests.post('http://keycloak:8080/auth/realms/sunbird-rc/protocol/openid-connect/token', headers=headers, data=data)\n",
    "institutionToken = response.json()[\"access_token\"]\n",
    "institutionToken"
   ]
  },
  {
   "cell_type": "markdown",
   "id": "53768f82-3659-4643-a5b2-727092b11f49",
   "metadata": {},
   "source": [
    "### Get Same Institute"
   ]
  },
  {
   "cell_type": "code",
   "execution_count": 22,
   "id": "a398971a",
   "metadata": {},
   "outputs": [
    {
     "name": "stdout",
     "output_type": "stream",
     "text": [
      "200\n"
     ]
    },
    {
     "data": {
      "text/plain": [
       "(200,\n",
       " {'osUpdatedAt': '2022-03-10T04:11:42.366299Z',\n",
       "  'ContactDetails': {'osid': '1-1c9be2cb-beb3-4436-afde-108701aee693',\n",
       "   'osUpdatedAt': '2022-03-10T04:11:42.366299Z',\n",
       "   'osCreatedAt': '2022-03-10T04:10:45.224024Z',\n",
       "   'address': {'osid': '1-35489c23-fb2c-41cc-a93c-32ee1b3b9ccc',\n",
       "    'pincode': '560001',\n",
       "    'osUpdatedAt': '2022-03-10T04:11:42.366299Z',\n",
       "    'osCreatedAt': '2022-03-10T04:10:45.224024Z',\n",
       "    'osUpdatedBy': '',\n",
       "    'street': 'abcde',\n",
       "    'osCreatedBy': '',\n",
       "    'state': 'Karnataka'},\n",
       "   'osUpdatedBy': '',\n",
       "   'osCreatedBy': '',\n",
       "   'mobile': '97054657802',\n",
       "   'email': '97054657802@example.com'},\n",
       "  'osCreatedAt': '2022-03-10T04:10:45.224024Z',\n",
       "  'osUpdatedBy': '',\n",
       "  'schoolType': 'Co-ed',\n",
       "  'osCreatedBy': '',\n",
       "  'osid': '1-4f0a9b74-6d29-41b3-8b5c-ceab36ccf39f',\n",
       "  'category': 'Primary',\n",
       "  'osOwner': ['bcfe8682-d858-4969-a7b3-2a3fce48f376'],\n",
       "  'InstituteAffiliation': [{'osUpdatedAt': '2022-03-10T04:11:42.366299Z',\n",
       "    'osUpdatedBy': '',\n",
       "    'entityName': 'Institute',\n",
       "    '_osState': 'ATTESTATION_REQUESTED',\n",
       "    'name': 'InstituteAffiliation',\n",
       "    'entityId': '1-4f0a9b74-6d29-41b3-8b5c-ceab36ccf39f',\n",
       "    'osid': '1-1be759e7-f440-4cbb-9022-8c25bf0f256f',\n",
       "    '_osClaimId': '9c84d936-eb4d-4e78-8ebb-62fcd937dd23',\n",
       "    'propertyData': '{\"institute\":\"97054657802\"}'}],\n",
       "  'instituteName': '97054657802'})"
      ]
     },
     "execution_count": 22,
     "metadata": {},
     "output_type": "execute_result"
    }
   ],
   "source": [
    "headers = {\n",
    "    'content-type': 'application/json',\n",
    "    'Authorization': 'Bearer %s'%institutionToken, \n",
    "}\n",
    "\n",
    "response = requests.get('http://localhost:8081/api/v1/%s/%s'%(entity_name, instituteOsId), headers=headers)\n",
    "print(response.status_code)\n",
    "obj = response.json()\n",
    "response.status_code, response.json()"
   ]
  },
  {
   "cell_type": "markdown",
   "id": "b9630a71-a20a-4170-a244-49a4ff71c701",
   "metadata": {},
   "source": [
    "## Invite Teacher 1"
   ]
  },
  {
   "cell_type": "code",
   "execution_count": 23,
   "id": "c743d6c2-e4af-4cf2-8ce7-8db382988b88",
   "metadata": {},
   "outputs": [
    {
     "data": {
      "text/plain": [
       "'51930068146'"
      ]
     },
     "execution_count": 23,
     "metadata": {},
     "output_type": "execute_result"
    }
   ],
   "source": [
    "teacherId_1 =str(random.randint(1e10,1e11))\n",
    "teacherId_1"
   ]
  },
  {
   "cell_type": "code",
   "execution_count": 24,
   "id": "d737501c-e52d-4e3f-b308-b8d620c76780",
   "metadata": {},
   "outputs": [
    {
     "data": {
      "text/plain": [
       "'30943612100'"
      ]
     },
     "execution_count": 24,
     "metadata": {},
     "output_type": "execute_result"
    }
   ],
   "source": [
    "teacherId_2 =str(random.randint(1e10,1e11))\n",
    "teacherId_2"
   ]
  },
  {
   "cell_type": "code",
   "execution_count": 44,
   "id": "036d01d4-42a2-4c5e-bed5-21e62f9cd4d8",
   "metadata": {},
   "outputs": [
    {
     "name": "stdout",
     "output_type": "stream",
     "text": [
      "b'{\"id\":\"sunbird-rc.registry.invite\",\"ver\":\"1.0\",\"ets\":1646887576945,\"params\":{\"resmsgid\":\"\",\"msgid\":\"6ac7d5dc-0405-405f-a0bb-a3b7aeb99458\",\"err\":\"\",\"status\":\"SUCCESSFUL\",\"errmsg\":\"\"},\"responseCode\":\"OK\",\"result\":{\"Teacher\":{\"osid\":\"1-55e1fc19-1c0b-4f02-8aa6-78220c838414\"}}}'\n",
      "{'id': 'sunbird-rc.registry.invite', 'ver': '1.0', 'ets': 1646887576945, 'params': {'resmsgid': '', 'msgid': '6ac7d5dc-0405-405f-a0bb-a3b7aeb99458', 'err': '', 'status': 'SUCCESSFUL', 'errmsg': ''}, 'responseCode': 'OK', 'result': {'Teacher': {'osid': '1-55e1fc19-1c0b-4f02-8aa6-78220c838414'}}}\n"
     ]
    }
   ],
   "source": [
    "headers = {\n",
    "    'content-type': 'application/json',\n",
    "    'authorization': 'bearer %s'%institutionToken,\n",
    "}\n",
    "resp = requests.post(\"%s%s\"%(base_url, teacherInvite), json=entityForTeacherWithExperiance(teacherId_1,instituteId_1),headers= headers)\n",
    "print(resp.content)\n",
    "assert resp.status_code == 200\n",
    "print(resp.json())\n",
    "assert(resp.json()[\"id\"]==\"sunbird-rc.registry.invite\")\n",
    "assert resp.json()[\"params\"][\"status\"] == \"SUCCESSFUL\"\n",
    "entity_name=next(iter(resp.json()[\"result\"].keys()))\n",
    "assert \"Teacher\"==entity_name\n",
    "teacherOsId = resp.json()[\"result\"][entity_name][\"osid\"]"
   ]
  },
  {
   "cell_type": "markdown",
   "id": "35b47e44-1de9-4a64-9306-7420a6338308",
   "metadata": {},
   "source": [
    "## Invite Teacher 2"
   ]
  },
  {
   "cell_type": "code",
   "execution_count": 45,
   "id": "d50732dd-3cd1-4248-af83-fdde4e8bd46d",
   "metadata": {},
   "outputs": [
    {
     "name": "stdout",
     "output_type": "stream",
     "text": [
      "b'{\"id\":\"sunbird-rc.registry.invite\",\"ver\":\"1.0\",\"ets\":1646887671095,\"params\":{\"resmsgid\":\"\",\"msgid\":\"7b6576fc-1d15-407d-a35a-aedd1f38e41c\",\"err\":\"\",\"status\":\"SUCCESSFUL\",\"errmsg\":\"\"},\"responseCode\":\"OK\",\"result\":{\"Teacher\":{\"osid\":\"1-67a0b0e1-c8d2-43d3-99ba-daef69613001\"}}}'\n",
      "{'id': 'sunbird-rc.registry.invite', 'ver': '1.0', 'ets': 1646887671095, 'params': {'resmsgid': '', 'msgid': '7b6576fc-1d15-407d-a35a-aedd1f38e41c', 'err': '', 'status': 'SUCCESSFUL', 'errmsg': ''}, 'responseCode': 'OK', 'result': {'Teacher': {'osid': '1-67a0b0e1-c8d2-43d3-99ba-daef69613001'}}}\n"
     ]
    },
    {
     "data": {
      "text/plain": [
       "'1-67a0b0e1-c8d2-43d3-99ba-daef69613001'"
      ]
     },
     "execution_count": 45,
     "metadata": {},
     "output_type": "execute_result"
    }
   ],
   "source": [
    "headers = {\n",
    "    'content-type': 'application/json',\n",
    "    'authorization': 'bearer %s'%institutionToken,\n",
    "}\n",
    "resp = requests.post(\"%s%s\"%(base_url, teacherInvite), json=entityForTeacherWithExperiance(teacherId_2,instituteId_2),headers= headers)\n",
    "print(resp.content)\n",
    "assert resp.status_code == 200\n",
    "print(resp.json())\n",
    "assert(resp.json()[\"id\"]==\"sunbird-rc.registry.invite\")\n",
    "assert resp.json()[\"params\"][\"status\"] == \"SUCCESSFUL\"\n",
    "entity_name=next(iter(resp.json()[\"result\"].keys()))\n",
    "assert \"Teacher\"==entity_name\n",
    "teacherOsId = resp.json()[\"result\"][entity_name][\"osid\"]\n",
    "teacherOsId"
   ]
  },
  {
   "cell_type": "markdown",
   "id": "d79d26ac-eabb-4ade-ba19-1f8f7ae142c9",
   "metadata": {},
   "source": [
    "### Teacher Token"
   ]
  },
  {
   "cell_type": "code",
   "execution_count": 62,
   "id": "058ead33-10ab-40ca-a8d5-f97bebe965e6",
   "metadata": {},
   "outputs": [
    {
     "data": {
      "text/plain": [
       "'eyJhbGciOiJSUzI1NiIsInR5cCIgOiAiSldUIiwia2lkIiA6ICJZcGNvVHQ4bTBveXZkbjY4dU9icE0zX1REZWwzbXFhWXA5d19hX19PY3g0In0.eyJleHAiOjE2NDY4ODkzMzUsImlhdCI6MTY0Njg4ODczNSwianRpIjoiZjc1YzFjOGEtMDI0OC00ZjA2LWE5MTgtNGFkZjViMmQ5MWRhIiwiaXNzIjoiaHR0cDovL2tleWNsb2FrOjgwODAvYXV0aC9yZWFsbXMvc3VuYmlyZC1yYyIsImF1ZCI6ImFjY291bnQiLCJzdWIiOiI1NjBlYjFkZC03OGIzLTQyMjItOGNmYy0xOTNlYTk3NDcwN2IiLCJ0eXAiOiJCZWFyZXIiLCJhenAiOiJyZWdpc3RyeS1mcm9udGVuZCIsInNlc3Npb25fc3RhdGUiOiIzMzg4NjI2Mi1mODFhLTQwYzgtYjIxYS01OWFjYmFkNjkzZjkiLCJhY3IiOiIxIiwiYWxsb3dlZC1vcmlnaW5zIjpbImh0dHBzOi8vbG9jYWxob3N0OjQyMDIiLCJodHRwOi8vbG9jYWxob3N0OjQyMDIiLCJodHRwczovL2xvY2FsaG9zdDo0MjAwIiwiaHR0cHM6Ly9uZGVhci54aXYuaW4iLCJodHRwOi8vbG9jYWxob3N0OjQyMDAiLCJodHRwOi8vbmRlYXIueGl2LmluIiwiaHR0cDovLzIwLjE5OC42NC4xMjgiXSwicmVhbG1fYWNjZXNzIjp7InJvbGVzIjpbIm9mZmxpbmVfYWNjZXNzIiwiZWR1LXN0YWZmIiwidW1hX2F1dGhvcml6YXRpb24iLCJkZWZhdWx0LXJvbGVzLW5kZWFyIl19LCJyZXNvdXJjZV9hY2Nlc3MiOnsiYWNjb3VudCI6eyJyb2xlcyI6WyJtYW5hZ2UtYWNjb3VudCIsIm1hbmFnZS1hY2NvdW50LWxpbmtzIiwidmlldy1wcm9maWxlIl19fSwic2NvcGUiOiJwcm9maWxlIGVtYWlsIiwiZW1haWxfdmVyaWZpZWQiOmZhbHNlLCJwcmVmZXJyZWRfdXNlcm5hbWUiOiI1MTkzMDA2ODE0NiIsImVudGl0eSI6WyJUZWFjaGVyIl0sImVtYWlsIjoiNTE5MzAwNjgxNDZAZXhhbXBsZS5jb20ifQ.joWgN2dSGkbF4MOReh9weOIyk9_M1agggtUxTmuo7qVHecPfNtt8CcfDzk4BFd4Tlnn2ahZenMvISZT9IaGkd0VSbphJVPyBYJHy__jJJalC9-bt_c9qfH5W50Tc6-LE9DOCENm7bs30IjS8lRPbZrklf32NCT1jkmSTDt9kCnOWfHmalZTx470EyEAj7_rPdsF3Tgs_hcunDCHYgv9P10GJlMTpmq0rMqKcRv4EdPgBtp_ms7LK3OoRyFhMG5xQlBkJJfWOtrjrFkXb3zLL9HkAHTUBU9S2orF5-O5cjZPtAqRY0hMh0tutFRMGyBvhPkeu1SKmzl5406OpdmP_JA'"
      ]
     },
     "execution_count": 62,
     "metadata": {},
     "output_type": "execute_result"
    }
   ],
   "source": [
    "headers = {\n",
    "    'content-type': 'application/x-www-form-urlencoded',\n",
    "}\n",
    "data = getEntityPayload(teacherId_1,defaultPassowrd)\n",
    "response = requests.post('http://keycloak:8080/auth/realms/sunbird-rc/protocol/openid-connect/token', headers=headers, data=data)\n",
    "teacherToken = response.json()[\"access_token\"]\n",
    "teacherToken"
   ]
  },
  {
   "cell_type": "markdown",
   "id": "3892578f-ae76-477d-b8fd-4401bc2a333e",
   "metadata": {},
   "source": [
    "### Teacher 2 Token"
   ]
  },
  {
   "cell_type": "code",
   "execution_count": 56,
   "id": "b4862ab2-64c1-45ae-b6ce-12d1b7d6fb0f",
   "metadata": {},
   "outputs": [
    {
     "data": {
      "text/plain": [
       "'eyJhbGciOiJSUzI1NiIsInR5cCIgOiAiSldUIiwia2lkIiA6ICJZcGNvVHQ4bTBveXZkbjY4dU9icE0zX1REZWwzbXFhWXA5d19hX19PY3g0In0.eyJleHAiOjE2NDY4ODkxNjgsImlhdCI6MTY0Njg4ODU2OCwianRpIjoiOTVlODg5MmYtOTI3Mi00ZDkwLTk0YTMtM2NmMTRlMzdiZDI1IiwiaXNzIjoiaHR0cDovL2tleWNsb2FrOjgwODAvYXV0aC9yZWFsbXMvc3VuYmlyZC1yYyIsImF1ZCI6ImFjY291bnQiLCJzdWIiOiIxYTU4Yjc4Yi0zNTY4LTQ2MDYtODcyMy05YTQ1YmFhNGQ0YjEiLCJ0eXAiOiJCZWFyZXIiLCJhenAiOiJyZWdpc3RyeS1mcm9udGVuZCIsInNlc3Npb25fc3RhdGUiOiJjMGQ4YmQxNS0wYTIwLTQ1ZmYtYTM3NC0wZjA1MmJhYWZjYzYiLCJhY3IiOiIxIiwiYWxsb3dlZC1vcmlnaW5zIjpbImh0dHBzOi8vbG9jYWxob3N0OjQyMDIiLCJodHRwOi8vbG9jYWxob3N0OjQyMDIiLCJodHRwczovL2xvY2FsaG9zdDo0MjAwIiwiaHR0cHM6Ly9uZGVhci54aXYuaW4iLCJodHRwOi8vbG9jYWxob3N0OjQyMDAiLCJodHRwOi8vbmRlYXIueGl2LmluIiwiaHR0cDovLzIwLjE5OC42NC4xMjgiXSwicmVhbG1fYWNjZXNzIjp7InJvbGVzIjpbIm9mZmxpbmVfYWNjZXNzIiwiZWR1LXN0YWZmIiwidW1hX2F1dGhvcml6YXRpb24iLCJkZWZhdWx0LXJvbGVzLW5kZWFyIl19LCJyZXNvdXJjZV9hY2Nlc3MiOnsiYWNjb3VudCI6eyJyb2xlcyI6WyJtYW5hZ2UtYWNjb3VudCIsIm1hbmFnZS1hY2NvdW50LWxpbmtzIiwidmlldy1wcm9maWxlIl19fSwic2NvcGUiOiJwcm9maWxlIGVtYWlsIiwiZW1haWxfdmVyaWZpZWQiOmZhbHNlLCJwcmVmZXJyZWRfdXNlcm5hbWUiOiIzMDk0MzYxMjEwMCIsImVudGl0eSI6WyJUZWFjaGVyIl0sImVtYWlsIjoiMzA5NDM2MTIxMDBAZXhhbXBsZS5jb20ifQ.JZSlDDNqcfmkPZZf-YhQsxddwGi1oSzahydfx_f50XKonabATRS6KA7aoF0kEFCY-Kj8h58JP1GXlvGHzt3VSsdB0XRly230-fR_PZ4ako9fuwW3ii2yHccgo0VAStOvOa9MjArzkzrCLWZmrsIm-2ngbFmI7ZavtdaHlF96OuftZLwZ8FNltaZW1KhObAFDcDdlvrdWo-F0JoCvmaQ2I0U6X4huCQJRBklVRLZDqu5zAnoHW9LOxvNB5KTy9ukfCDFNKUYqRRFOFnkScYuyuvncxulxS57xDOS-N5zLXWTK6Fuw2cbuJ3eAdnViGPDtYQB2pVoNV_cOvUBNa2nI3A'"
      ]
     },
     "execution_count": 56,
     "metadata": {},
     "output_type": "execute_result"
    }
   ],
   "source": [
    "headers = {\n",
    "    'content-type': 'application/x-www-form-urlencoded',\n",
    "}\n",
    "data = getEntityPayload(teacherId_2,defaultPassowrd)\n",
    "response = requests.post('http://keycloak:8080/auth/realms/sunbird-rc/protocol/openid-connect/token', headers=headers, data=data)\n",
    "teacher2Token = response.json()[\"access_token\"]\n",
    "teacher2Token"
   ]
  },
  {
   "cell_type": "markdown",
   "id": "6eb1a18e",
   "metadata": {},
   "source": [
    "## invite a student"
   ]
  },
  {
   "cell_type": "code",
   "execution_count": 47,
   "id": "9253172b-783f-4c1e-968f-7781a1cd2436",
   "metadata": {},
   "outputs": [
    {
     "data": {
      "text/plain": [
       "'64441813084'"
      ]
     },
     "execution_count": 47,
     "metadata": {},
     "output_type": "execute_result"
    }
   ],
   "source": [
    "studentId =str(random.randint(1e10,1e11))\n",
    "studentId"
   ]
  },
  {
   "cell_type": "code",
   "execution_count": 50,
   "id": "010f88b4-8020-4284-8bbd-64f43d74d912",
   "metadata": {},
   "outputs": [
    {
     "name": "stdout",
     "output_type": "stream",
     "text": [
      "{'id': 'sunbird-rc.registry.invite', 'ver': '1.0', 'ets': 1646887722729, 'params': {'resmsgid': '', 'msgid': '79d14e49-b962-47e9-9f39-db03eb6d72eb', 'err': '', 'status': 'SUCCESSFUL', 'errmsg': ''}, 'responseCode': 'OK', 'result': {'Student': {'osid': '1-abef0029-dacf-444e-9e58-857cc63e263d'}}}\n"
     ]
    },
    {
     "data": {
      "text/plain": [
       "'1-abef0029-dacf-444e-9e58-857cc63e263d'"
      ]
     },
     "execution_count": 50,
     "metadata": {},
     "output_type": "execute_result"
    }
   ],
   "source": [
    "headers = {\n",
    "    'content-type': 'application/json',\n",
    "    'authorization': 'bearer %s'%teacherToken,\n",
    "}\n",
    "data = entityForStudent(studentId,instituteId_1)\n",
    "resp = requests.post(\"%s%s\"%(base_url, studentInvite), json=data,headers=headers)\n",
    "assert resp.status_code == 200\n",
    "print(resp.json())\n",
    "studentOsId = resp.json()[\"result\"][\"Student\"][\"osid\"]\n",
    "studentOsId"
   ]
  },
  {
   "cell_type": "code",
   "execution_count": 59,
   "id": "a2f5e114-e2c1-441e-bb4e-0c2df8f53274",
   "metadata": {},
   "outputs": [
    {
     "data": {
      "text/plain": [
       "'eyJhbGciOiJSUzI1NiIsInR5cCIgOiAiSldUIiwia2lkIiA6ICJZcGNvVHQ4bTBveXZkbjY4dU9icE0zX1REZWwzbXFhWXA5d19hX19PY3g0In0.eyJleHAiOjE2NDY4ODkzMTIsImlhdCI6MTY0Njg4ODcxMiwianRpIjoiN2U5MDFlMTgtYjkwNy00NWRhLTlkNWMtZDFlY2RkYmYxNDY5IiwiaXNzIjoiaHR0cDovL2tleWNsb2FrOjgwODAvYXV0aC9yZWFsbXMvc3VuYmlyZC1yYyIsImF1ZCI6ImFjY291bnQiLCJzdWIiOiIwNzE4NGRkNi04ZjI4LTQ1Y2QtOTYxZS0wYzE2MTk5MWRlMjUiLCJ0eXAiOiJCZWFyZXIiLCJhenAiOiJyZWdpc3RyeS1mcm9udGVuZCIsInNlc3Npb25fc3RhdGUiOiJjOGRjNDZhNy1iYTc5LTQ4NzgtOTEzOS1kYWU0ZWRjNGVhNDMiLCJhY3IiOiIxIiwiYWxsb3dlZC1vcmlnaW5zIjpbImh0dHBzOi8vbG9jYWxob3N0OjQyMDIiLCJodHRwOi8vbG9jYWxob3N0OjQyMDIiLCJodHRwczovL2xvY2FsaG9zdDo0MjAwIiwiaHR0cHM6Ly9uZGVhci54aXYuaW4iLCJodHRwOi8vbG9jYWxob3N0OjQyMDAiLCJodHRwOi8vbmRlYXIueGl2LmluIiwiaHR0cDovLzIwLjE5OC42NC4xMjgiXSwicmVhbG1fYWNjZXNzIjp7InJvbGVzIjpbIm9mZmxpbmVfYWNjZXNzIiwidW1hX2F1dGhvcml6YXRpb24iLCJkZWZhdWx0LXJvbGVzLW5kZWFyIl19LCJyZXNvdXJjZV9hY2Nlc3MiOnsiYWNjb3VudCI6eyJyb2xlcyI6WyJtYW5hZ2UtYWNjb3VudCIsIm1hbmFnZS1hY2NvdW50LWxpbmtzIiwidmlldy1wcm9maWxlIl19fSwic2NvcGUiOiJwcm9maWxlIGVtYWlsIiwiZW1haWxfdmVyaWZpZWQiOmZhbHNlLCJwcmVmZXJyZWRfdXNlcm5hbWUiOiI2NDQ0MTgxMzA4NCIsImVudGl0eSI6WyJTdHVkZW50Il0sImVtYWlsIjoiNjQ0NDE4MTMwODRAZXhhbXBsZS5jb20ifQ.ZgCL-J1AftnyHgOrqgQn7xKyvF03AvgBHrD9D8IXipwvraQth-GNNwk25vI5fwAa7l1zi55DDcb-iCTjgAx30JC6KOwDGI2TYkSiDFK8lv7WshbUCXO61U9_2tbcbWvauzIMjUJMr52eIZ7qDLpOuqx-u4P9Nx96ZWpLhEu4_6MfNeybPPkZudEZ3fC8Srmg13VkmXT2cxlgtBdcCBs4szHpJgNoyPvKC-4j76Naiz-U6Q2SC0KlA27HqZQGwlCBHQXQjgGJKa-qM7OVhKjaeOA7_u9MWefKHGkOJR2zGPsmQUsGAdASI-KGReWb25iZxz3qwh_F_FJaIFkgHBINMA'"
      ]
     },
     "execution_count": 59,
     "metadata": {},
     "output_type": "execute_result"
    }
   ],
   "source": [
    "headers = {\n",
    "    'content-type': 'application/x-www-form-urlencoded',\n",
    "}\n",
    "data = getEntityPayload(studentId,defaultPassowrd)\n",
    "response = requests.post('http://keycloak:8080/auth/realms/sunbird-rc/protocol/openid-connect/token', headers=headers, data=data)\n",
    "studentToken = response.json()[\"access_token\"]\n",
    "studentToken"
   ]
  },
  {
   "cell_type": "markdown",
   "id": "43a6adae-0f3c-454a-a142-2871697be2e0",
   "metadata": {},
   "source": [
    "### Get Student"
   ]
  },
  {
   "cell_type": "code",
   "execution_count": 65,
   "id": "a1806431-5e5a-47a6-9ac3-69d0fa28d1cf",
   "metadata": {},
   "outputs": [
    {
     "name": "stdout",
     "output_type": "stream",
     "text": [
      "200\n"
     ]
    },
    {
     "data": {
      "text/plain": [
       "{'ContactDetails': {'osid': '1-1ac659fb-9b52-4591-b142-f92a02643dc4',\n",
       "  'address': {'osid': '1-8121a6f7-a8f7-454f-be6b-55d037d63778',\n",
       "   'pincode': '560001',\n",
       "   'street': 'abc',\n",
       "   'state': 'Karnataka'},\n",
       "  'mobile': '64441813084',\n",
       "  'email': '64441813084@example.com'},\n",
       " 'educationDetails': [{'institute': '17022784195',\n",
       "   'graduationYear': '2017',\n",
       "   'marks': '95',\n",
       "   'program': 'Engineering',\n",
       "   'osid': '1-def41c4c-b87f-4cb0-8e07-a567199cf42d'}],\n",
       " 'osid': '1-abef0029-dacf-444e-9e58-857cc63e263d',\n",
       " 'osOwner': ['07184dd6-8f28-45cd-961e-0c161991de25'],\n",
       " 'identityDetails': {'osid': '1-e9a78d1d-d2f8-4e23-aa63-65973d25c56e',\n",
       "  'gender': 'Male',\n",
       "  'fullName': 'Student 64441813084'},\n",
       " 'schoolId': [{'_osState': 'DRAFT',\n",
       "   'entityName': 'Student',\n",
       "   'name': 'schoolId',\n",
       "   'entityId': '1-abef0029-dacf-444e-9e58-857cc63e263d',\n",
       "   'osid': '1-b961aa6c-81ce-490a-a4e0-0c5301885a3a',\n",
       "   'propertyData': '{\"name\":\"Student 64441813084\",\"institute\":\"333777779\"}'},\n",
       "  {'_osState': 'ATTESTATION_REQUESTED',\n",
       "   'entityName': 'Student',\n",
       "   'name': 'schoolId',\n",
       "   'entityId': '1-abef0029-dacf-444e-9e58-857cc63e263d',\n",
       "   'osid': '1-f71ef510-5723-414a-b97e-abdb7de8c551',\n",
       "   '_osClaimId': 'ff4ddc17-c21a-4a21-8a3e-b62b5ecd4d64',\n",
       "   'propertyData': '{\"name\":\"Student 64441813084\",\"institute\":\"97054657802\"}'},\n",
       "  {'_osState': 'ATTESTATION_REQUESTED',\n",
       "   'entityName': 'Student',\n",
       "   'name': 'schoolId',\n",
       "   'entityId': '1-abef0029-dacf-444e-9e58-857cc63e263d',\n",
       "   'osid': '1-735a44d8-7a7d-4265-9be6-454e28a1d424',\n",
       "   '_osClaimId': '24621104-6bc5-4dd8-a26c-1e8020e639db',\n",
       "   'propertyData': '{\"name\":\"Student 64441813084\",\"institute\":\"17022784195\"}'}]}"
      ]
     },
     "execution_count": 65,
     "metadata": {},
     "output_type": "execute_result"
    }
   ],
   "source": [
    "headers = {\n",
    "    'content-type': 'application/json',\n",
    "    'Authorization': 'Bearer %s'%studentToken, \n",
    "}\n",
    "\n",
    "response = requests.get('http://localhost:8081/api/v1/%s/%s'%(\"Student\", studentOsId), headers=headers)\n",
    "print(response.status_code)\n",
    "response.json()"
   ]
  },
  {
   "cell_type": "markdown",
   "id": "f9d2d723-d07a-461a-9a9d-8d3e417dfaa0",
   "metadata": {},
   "source": [
    "## Teacher 1 should get claim"
   ]
  },
  {
   "cell_type": "code",
   "execution_count": 63,
   "id": "e1142573-572b-4f44-b731-53969be1d0a0",
   "metadata": {},
   "outputs": [
    {
     "name": "stdout",
     "output_type": "stream",
     "text": [
      "[{'id': 'fe04a3f5-2180-4f52-b7ab-343638a0f990', 'entity': 'Student', 'entityId': '1-abef0029-dacf-444e-9e58-857cc63e263d', 'propertyURI': '', 'createdAt': '2022-03-10T04:49:39.141+00:00', 'attestedOn': None, 'status': 'OPEN', 'conditions': \"(ATTESTOR#$.experience.[*].institute#.contains('97054657802'))\", 'attestorEntity': 'Teacher', 'requestorName': None, 'propertyData': '{\"name\":\"Student 64441813084\",\"institute\":\"97054657802\"}', 'attestationId': '1-f71ef510-5723-414a-b97e-abdb7de8c551', 'attestationName': 'schoolId', 'closed': False}]\n"
     ]
    },
    {
     "data": {
      "text/plain": [
       "[{'id': 'fe04a3f5-2180-4f52-b7ab-343638a0f990',\n",
       "  'entity': 'Student',\n",
       "  'entityId': '1-abef0029-dacf-444e-9e58-857cc63e263d',\n",
       "  'propertyURI': '',\n",
       "  'createdAt': '2022-03-10T04:49:39.141+00:00',\n",
       "  'attestedOn': None,\n",
       "  'status': 'OPEN',\n",
       "  'conditions': \"(ATTESTOR#$.experience.[*].institute#.contains('97054657802'))\",\n",
       "  'attestorEntity': 'Teacher',\n",
       "  'requestorName': None,\n",
       "  'propertyData': '{\"name\":\"Student 64441813084\",\"institute\":\"97054657802\"}',\n",
       "  'attestationId': '1-f71ef510-5723-414a-b97e-abdb7de8c551',\n",
       "  'attestationName': 'schoolId',\n",
       "  'closed': False}]"
      ]
     },
     "execution_count": 63,
     "metadata": {},
     "output_type": "execute_result"
    }
   ],
   "source": [
    "headers = {\n",
    "    'content-type': 'application/json',\n",
    "    'Authorization': 'bearer %s'%teacherToken, \n",
    "}\n",
    "\n",
    "response = requests.get('http://localhost:8081/api/v1/Teacher/claims', headers=headers)\n",
    "print(response.json())\n",
    "claim_id = response.json()[-1][\"id\"]\n",
    "response.json()"
   ]
  },
  {
   "cell_type": "markdown",
   "id": "509b1d35-58a8-4706-b5f4-4bcc86af8fdc",
   "metadata": {},
   "source": [
    "### Update Student"
   ]
  },
  {
   "cell_type": "code",
   "execution_count": 64,
   "id": "3490bc25-0023-4d0d-be7a-4e6c0f2a8155",
   "metadata": {},
   "outputs": [
    {
     "name": "stdout",
     "output_type": "stream",
     "text": [
      "{'identityDetails': {'fullName': 'Student 64441813084', 'gender': 'Male'}, 'ContactDetails': {'mobile': '64441813084', 'email': '64441813084@example.com', 'address': {'street': 'abc', 'state': 'Karnataka', 'pincode': '560001'}}, 'educationDetails': [{'institute': '17022784195', 'program': 'Engineering', 'graduationYear': '2017', 'marks': '95'}]}\n"
     ]
    },
    {
     "data": {
      "text/plain": [
       "{'id': 'sunbird-rc.registry.update',\n",
       " 'ver': '1.0',\n",
       " 'ets': 1646888744862,\n",
       " 'params': {'resmsgid': '',\n",
       "  'msgid': '9509b3be-765f-41d1-b1ca-7258256af076',\n",
       "  'err': '',\n",
       "  'status': 'SUCCESSFUL',\n",
       "  'errmsg': ''},\n",
       " 'responseCode': 'OK'}"
      ]
     },
     "execution_count": 64,
     "metadata": {},
     "output_type": "execute_result"
    }
   ],
   "source": [
    "headers = {\n",
    "    'content-type': 'application/json',\n",
    "    'authorization': 'Bearer %s'%studentToken,\n",
    "}\n",
    "data = entityForStudent(studentId,instituteId_2)\n",
    "print(data)\n",
    "response = requests.put('http://localhost:8081/api/v1/%s/%s'%(\"Student\", studentOsId), headers=headers, json=data)\n",
    "response.json()"
   ]
  },
  {
   "cell_type": "markdown",
   "id": "8feaccfb-061a-4d9d-95b3-4de14873dfe0",
   "metadata": {},
   "source": [
    "## Teacher 2 should get claim"
   ]
  },
  {
   "cell_type": "code",
   "execution_count": 66,
   "id": "dc2a8613-e27c-4ed2-8990-959c75ac3543",
   "metadata": {},
   "outputs": [
    {
     "name": "stdout",
     "output_type": "stream",
     "text": [
      "[{'id': '24621104-6bc5-4dd8-a26c-1e8020e639db', 'entity': 'Student', 'entityId': '1-abef0029-dacf-444e-9e58-857cc63e263d', 'propertyURI': '', 'createdAt': '2022-03-10T05:05:46.448+00:00', 'attestedOn': None, 'status': 'OPEN', 'conditions': \"(ATTESTOR#$.experience.[*].institute#.contains('17022784195'))\", 'attestorEntity': 'Teacher', 'requestorName': None, 'propertyData': '{\"name\":\"Student 64441813084\",\"institute\":\"17022784195\"}', 'attestationId': '1-735a44d8-7a7d-4265-9be6-454e28a1d424', 'attestationName': 'schoolId', 'closed': False}]\n"
     ]
    },
    {
     "data": {
      "text/plain": [
       "[{'id': '24621104-6bc5-4dd8-a26c-1e8020e639db',\n",
       "  'entity': 'Student',\n",
       "  'entityId': '1-abef0029-dacf-444e-9e58-857cc63e263d',\n",
       "  'propertyURI': '',\n",
       "  'createdAt': '2022-03-10T05:05:46.448+00:00',\n",
       "  'attestedOn': None,\n",
       "  'status': 'OPEN',\n",
       "  'conditions': \"(ATTESTOR#$.experience.[*].institute#.contains('17022784195'))\",\n",
       "  'attestorEntity': 'Teacher',\n",
       "  'requestorName': None,\n",
       "  'propertyData': '{\"name\":\"Student 64441813084\",\"institute\":\"17022784195\"}',\n",
       "  'attestationId': '1-735a44d8-7a7d-4265-9be6-454e28a1d424',\n",
       "  'attestationName': 'schoolId',\n",
       "  'closed': False}]"
      ]
     },
     "execution_count": 66,
     "metadata": {},
     "output_type": "execute_result"
    }
   ],
   "source": [
    "headers = {\n",
    "    'content-type': 'application/json',\n",
    "    'Authorization': 'bearer %s'%teacher2Token, \n",
    "}\n",
    "\n",
    "response = requests.get('http://localhost:8081/api/v1/Teacher/claims', headers=headers)\n",
    "print(response.json())\n",
    "claim_id = response.json()[-1][\"id\"]\n",
    "response.json()"
   ]
  },
  {
   "cell_type": "markdown",
   "id": "d0133f9a-6bd2-43f2-8f2e-01ae1c55193a",
   "metadata": {},
   "source": [
    "## Teacher 2 approve's the claim"
   ]
  },
  {
   "cell_type": "code",
   "execution_count": 67,
   "id": "98bd0d29-54ed-4689-916d-941e0aba4ba6",
   "metadata": {},
   "outputs": [
    {
     "name": "stdout",
     "output_type": "stream",
     "text": [
      "200\n"
     ]
    },
    {
     "data": {
      "text/plain": [
       "{'resmsgid': '',\n",
       " 'msgid': '863d3dd3-8da6-4fb7-9db0-d8fcd97bb9fe',\n",
       " 'err': '',\n",
       " 'status': 'SUCCESSFUL',\n",
       " 'errmsg': ''}"
      ]
     },
     "execution_count": 67,
     "metadata": {},
     "output_type": "execute_result"
    }
   ],
   "source": [
    "headers = {\n",
    "    'content-type': 'application/json',\n",
    "    'Authorization': 'Bearer %s'%teacher2Token, \n",
    "}\n",
    "data = {\n",
    "    \"action\":\"GRANT_CLAIM\",\n",
    "}\n",
    "response = requests.post('http://localhost:8081/api/v1/Teacher/claims/%s/attest'%claim_id, headers=headers, json=data)\n",
    "print(response.status_code)\n",
    "response.json()"
   ]
  },
  {
   "cell_type": "markdown",
   "id": "6fc997ff-bc0f-4cd5-a4f3-5b9560519b61",
   "metadata": {},
   "source": [
    "### Claim status should be Closed after Approval"
   ]
  },
  {
   "cell_type": "code",
   "execution_count": 70,
   "id": "d36f205c-9d3d-4717-a751-3086a709ded3",
   "metadata": {},
   "outputs": [
    {
     "name": "stdout",
     "output_type": "stream",
     "text": [
      "200\n"
     ]
    },
    {
     "data": {
      "text/plain": [
       "[{'id': '24621104-6bc5-4dd8-a26c-1e8020e639db',\n",
       "  'entity': 'Student',\n",
       "  'entityId': '1-abef0029-dacf-444e-9e58-857cc63e263d',\n",
       "  'propertyURI': '',\n",
       "  'createdAt': '2022-03-10T05:05:46.448+00:00',\n",
       "  'attestedOn': '2022-03-10T05:06:27.351+00:00',\n",
       "  'status': 'CLOSED',\n",
       "  'conditions': \"(ATTESTOR#$.experience.[*].institute#.contains('17022784195'))\",\n",
       "  'attestorEntity': 'Teacher',\n",
       "  'requestorName': None,\n",
       "  'propertyData': '{\"name\":\"Student 64441813084\",\"institute\":\"17022784195\"}',\n",
       "  'attestationId': '1-735a44d8-7a7d-4265-9be6-454e28a1d424',\n",
       "  'attestationName': 'schoolId',\n",
       "  'closed': True}]"
      ]
     },
     "execution_count": 70,
     "metadata": {},
     "output_type": "execute_result"
    }
   ],
   "source": [
    "headers = {\n",
    "    'content-type': 'application/json',\n",
    "    'Authorization': 'Bearer %s'%teacher2Token, \n",
    "}\n",
    "\n",
    "response = requests.get('http://localhost:8081/api/v1/Teacher/claims', headers=headers)\n",
    "print(response.status_code)\n",
    "claim_id = response.json()[0][\"id\"]\n",
    "assert response.json()[0][\"status\"]=='CLOSED'\n",
    "response.json()"
   ]
  },
  {
   "cell_type": "code",
   "execution_count": null,
   "id": "4ff67edd-5a26-477e-ab5b-b311248a69d0",
   "metadata": {},
   "outputs": [],
   "source": []
  }
 ],
 "metadata": {
  "kernelspec": {
   "display_name": "Python 3 (ipykernel)",
   "language": "python",
   "name": "python3"
  },
  "language_info": {
   "codemirror_mode": {
    "name": "ipython",
    "version": 3
   },
   "file_extension": ".py",
   "mimetype": "text/x-python",
   "name": "python",
   "nbconvert_exporter": "python",
   "pygments_lexer": "ipython3",
   "version": "3.9.7"
  }
 },
 "nbformat": 4,
 "nbformat_minor": 5
}
