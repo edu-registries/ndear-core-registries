{
 "cells": [
  {
   "cell_type": "markdown",
   "id": "3049badd-b956-484f-9981-c733db14b04e",
   "metadata": {},
   "source": [
    "# Delete API E2E Tests"
   ]
  },
  {
   "cell_type": "code",
   "execution_count": 1,
   "id": "e734b442-ec30-412b-b1d7-3302132bda9f",
   "metadata": {},
   "outputs": [],
   "source": [
    "import requests\n",
    "import random\n",
    "import string\n",
    "import json"
   ]
  },
  {
   "cell_type": "code",
   "execution_count": 2,
   "id": "a07489b1-1ac6-4ce7-98e7-31f151651eb9",
   "metadata": {},
   "outputs": [],
   "source": [
    "base_url = \"http://localhost:8081\""
   ]
  },
  {
   "cell_type": "code",
   "execution_count": 3,
   "id": "c1abe9f7-f843-4c9a-bac2-9ae079b6e8ba",
   "metadata": {},
   "outputs": [],
   "source": [
    "resp = requests.get(base_url)\n",
    "assert resp.status_code == 404\n",
    "assert resp.json()[\"status\"] == 404\n",
    "assert resp.json()[\"error\"] == \"Not Found\""
   ]
  },
  {
   "cell_type": "code",
   "execution_count": 4,
   "id": "b7df0259-5db2-4998-b0b4-b2551f23670c",
   "metadata": {},
   "outputs": [],
   "source": [
    "resp = requests.get(\"%s/api/docs/swagger.json\"%base_url)\n",
    "assert resp.status_code == 200\n",
    "assert resp.json()[\"swagger\"] == \"2.0\"\n",
    "assert resp.json()[\"paths\"] != None"
   ]
  },
  {
   "cell_type": "code",
   "execution_count": 5,
   "id": "516c6e55-c539-4afa-ae4b-86527092c64f",
   "metadata": {},
   "outputs": [],
   "source": [
    "swaggerJson = resp.json()\n",
    "apiEndpoints = swaggerJson[\"paths\"].keys()\n",
    "assert len(apiEndpoints)==45"
   ]
  },
  {
   "cell_type": "code",
   "execution_count": 6,
   "id": "d815499f-3d11-4f47-9508-9bfbf07a8251",
   "metadata": {},
   "outputs": [
    {
     "name": "stdout",
     "output_type": "stream",
     "text": [
      "/api/v1/Institute/invite /api/v1/Teacher/invite /api/v1/Student/invite\n"
     ]
    }
   ],
   "source": [
    "inviteUrls = [f for f in swaggerJson[\"paths\"].keys() if \"/invite\" in f]\n",
    "instituteInvite = [u for u in inviteUrls if \"/Institute\" in u][0]\n",
    "teacherInvite = [v for v in inviteUrls if \"/Teacher\" in v][0]\n",
    "studentInvite = [w for w in inviteUrls if \"/Student\" in w][0]\n",
    "print(instituteInvite,teacherInvite,studentInvite)"
   ]
  },
  {
   "cell_type": "code",
   "execution_count": 7,
   "id": "7dd96adb-1181-4d62-bdd8-3e69e740f29e",
   "metadata": {},
   "outputs": [],
   "source": [
    "def entityForInstitute(userId):\n",
    "    return  {\n",
    "        \"instituteName\": \"%s\"%userId,\n",
    "        \"ContactDetails\":{ \"mobile\":\"%s\"%userId,\"email\":\"%s@example.com\"%userId,\n",
    "               \"address\":{\"street\":\"abcde\",\"state\":\"Karnataka\",\"pincode\":\"560001\"}},\n",
    "        \"category\": \"Primary\",\n",
    "        \"schoolType\": \"Co-ed\"\n",
    "    }"
   ]
  },
  {
   "cell_type": "code",
   "execution_count": 8,
   "id": "cf1722ed-a5f0-4470-a616-ce0573e6b0ec",
   "metadata": {},
   "outputs": [],
   "source": [
    "def entityForTeacher(userId):\n",
    "    return  {\"personalDetails\":{\n",
    "         \"userName\":userId,\n",
    "         \"dob\":\"2020-12-12\",\n",
    "     },\n",
    "      \"IdentityDetails\":{\"type\":\"id\",\"value\":userId}, \n",
    "      \"ContactDetails\":{ \"mobile\":\"%s\"%userId,\"email\":\"%s@example.com\"%userId,\n",
    "                       \"address\":{\"street\":\"abc\",\"state\":\"Karnataka\",\"pincode\":\"560001\"}}\n",
    "     }"
   ]
  },
  {
   "cell_type": "code",
   "execution_count": 9,
   "id": "aadca59d-dd83-4c76-936c-45d25767390e",
   "metadata": {},
   "outputs": [],
   "source": [
    "def getEntityPayload(userId,password):\n",
    "    return {\n",
    "      \"client_id\": \"registry-frontend\",\n",
    "      \"username\": \"%s\"%userId,\n",
    "      \"password\": \"%s\"%password,\n",
    "      \"grant_type\": \"password\"\n",
    "    }"
   ]
  },
  {
   "cell_type": "code",
   "execution_count": 10,
   "id": "af5cbde6-593c-41b1-93ae-6be1f3b17adf",
   "metadata": {},
   "outputs": [],
   "source": [
    "defaultPassowrd = \"abcd@123\""
   ]
  },
  {
   "cell_type": "markdown",
   "id": "40eff43c-2ce9-4767-a552-5629d7af1dd6",
   "metadata": {},
   "source": [
    "## Invite 1st Institute"
   ]
  },
  {
   "cell_type": "code",
   "execution_count": 11,
   "id": "76ccffb3-1809-42bc-84a6-3636919759f8",
   "metadata": {},
   "outputs": [
    {
     "data": {
      "text/plain": [
       "'29327853293'"
      ]
     },
     "execution_count": 11,
     "metadata": {},
     "output_type": "execute_result"
    }
   ],
   "source": [
    "institute1Id =str(random.randint(1e10,1e11))\n",
    "institute1Id"
   ]
  },
  {
   "cell_type": "code",
   "execution_count": 12,
   "id": "6071944e-c6d7-4607-a9f3-3bc5de032145",
   "metadata": {},
   "outputs": [
    {
     "name": "stdout",
     "output_type": "stream",
     "text": [
      "b'{\"id\":\"sunbird-rc.registry.invite\",\"ver\":\"1.0\",\"ets\":1646139005822,\"params\":{\"resmsgid\":\"\",\"msgid\":\"7a476473-b1ad-48d2-8a1b-fbf773b1d3ca\",\"err\":\"\",\"status\":\"SUCCESSFUL\",\"errmsg\":\"\"},\"responseCode\":\"OK\",\"result\":{\"Institute\":{\"osid\":\"1-abe9ee39-8606-4425-98cb-60942eaa717a\"}}}'\n",
      "{'id': 'sunbird-rc.registry.invite', 'ver': '1.0', 'ets': 1646139005822, 'params': {'resmsgid': '', 'msgid': '7a476473-b1ad-48d2-8a1b-fbf773b1d3ca', 'err': '', 'status': 'SUCCESSFUL', 'errmsg': ''}, 'responseCode': 'OK', 'result': {'Institute': {'osid': '1-abe9ee39-8606-4425-98cb-60942eaa717a'}}}\n"
     ]
    },
    {
     "data": {
      "text/plain": [
       "'1-abe9ee39-8606-4425-98cb-60942eaa717a'"
      ]
     },
     "execution_count": 12,
     "metadata": {},
     "output_type": "execute_result"
    }
   ],
   "source": [
    "resp = requests.post(\"%s%s\"%(base_url, instituteInvite), json=entityForInstitute(institute1Id)\n",
    ")\n",
    "print(resp.content)\n",
    "assert resp.status_code == 200\n",
    "print(resp.json())\n",
    "assert(resp.json()[\"id\"]==\"sunbird-rc.registry.invite\")\n",
    "assert resp.json()[\"params\"][\"status\"] == \"SUCCESSFUL\"\n",
    "entity_name=next(iter(resp.json()[\"result\"].keys()))\n",
    "assert \"Institute\"==entity_name\n",
    "institute1OsId = resp.json()[\"result\"][entity_name][\"osid\"]\n",
    "institute1OsId"
   ]
  },
  {
   "cell_type": "markdown",
   "id": "ff665f38-fe0e-4ced-b609-79a58ba0a4be",
   "metadata": {},
   "source": [
    "## Invite Teacher 1 using 1st Institute"
   ]
  },
  {
   "cell_type": "markdown",
   "id": "cd885cd0-8d97-406e-aa27-a54080385381",
   "metadata": {},
   "source": [
    "### Get Institute 1 token"
   ]
  },
  {
   "cell_type": "code",
   "execution_count": 16,
   "id": "e29305eb-3c77-4c75-853e-2a626b8a25e1",
   "metadata": {},
   "outputs": [
    {
     "data": {
      "text/plain": [
       "'eyJhbGciOiJSUzI1NiIsInR5cCIgOiAiSldUIiwia2lkIiA6ICJZcGNvVHQ4bTBveXZkbjY4dU9icE0zX1REZWwzbXFhWXA5d19hX19PY3g0In0.eyJleHAiOjE2NDYxMzk2NDEsImlhdCI6MTY0NjEzOTA0MSwianRpIjoiMzNjN2ZmYTUtMjVhMy00MjRmLWEwODItYjk2YzdlYmRmM2FkIiwiaXNzIjoiaHR0cDovL2tleWNsb2FrOjgwODAvYXV0aC9yZWFsbXMvc3VuYmlyZC1yYyIsImF1ZCI6ImFjY291bnQiLCJzdWIiOiI3ZmQ5OTRkYi0wN2JjLTQwOGQtYTUzYS0wNmEzYzc5YmQ1NTIiLCJ0eXAiOiJCZWFyZXIiLCJhenAiOiJyZWdpc3RyeS1mcm9udGVuZCIsInNlc3Npb25fc3RhdGUiOiIwYWQ0Y2Q4YS0yMTUyLTQyOTYtYWEzZi0wYTliOTdhMmQwOWEiLCJhY3IiOiIxIiwiYWxsb3dlZC1vcmlnaW5zIjpbImh0dHBzOi8vbG9jYWxob3N0OjQyMDIiLCJodHRwOi8vbG9jYWxob3N0OjQyMDIiLCJodHRwczovL2xvY2FsaG9zdDo0MjAwIiwiaHR0cHM6Ly9uZGVhci54aXYuaW4iLCJodHRwOi8vbG9jYWxob3N0OjQyMDAiLCJodHRwOi8vbmRlYXIueGl2LmluIiwiaHR0cDovLzIwLjE5OC42NC4xMjgiXSwicmVhbG1fYWNjZXNzIjp7InJvbGVzIjpbImVkdS1hZG1pbiIsIm9mZmxpbmVfYWNjZXNzIiwidW1hX2F1dGhvcml6YXRpb24iLCJkZWZhdWx0LXJvbGVzLW5kZWFyIl19LCJyZXNvdXJjZV9hY2Nlc3MiOnsiYWNjb3VudCI6eyJyb2xlcyI6WyJtYW5hZ2UtYWNjb3VudCIsIm1hbmFnZS1hY2NvdW50LWxpbmtzIiwidmlldy1wcm9maWxlIl19fSwic2NvcGUiOiJwcm9maWxlIGVtYWlsIiwiZW1haWxfdmVyaWZpZWQiOmZhbHNlLCJwcmVmZXJyZWRfdXNlcm5hbWUiOiIyOTMyNzg1MzI5MyIsImVudGl0eSI6WyJJbnN0aXR1dGUiXSwiZW1haWwiOiIyOTMyNzg1MzI5M0BleGFtcGxlLmNvbSJ9.NSNGgBtwakiBUGQhwTzW08PYpfz_sVaYX_41yOM2Zi5KMAzyzuSPFdr2nrpBO7TolknrRrgetolfIqs-6WyGap3Wqf7yp1WCHbMrCWlYE9bpuTeJThF1wIup8Nqp9uq9UohXQ7k7fLBRbs_J17xdmIi01YoqOBcGuEoimM3d8ZvJySWiUGb8chXFyGEEpWDehM49M-bWEL71CyyFUlpnMOTVfiTW_YBepL4xUDNGOkmPNMebg0vbjdivgg4QvHuYz86UzGRu0gWtHSJIwzOY2SOTNcRc1ToDctzr43AzvcJL3Y1jiGX9Wmm2Xk2zuVSs4RtWI0Q-n6j4BpQ5Eq67pQ'"
      ]
     },
     "execution_count": 16,
     "metadata": {},
     "output_type": "execute_result"
    }
   ],
   "source": [
    "headers = {\n",
    "    'content-type': 'application/x-www-form-urlencoded',\n",
    "}\n",
    "data = getEntityPayload(institute1Id,defaultPassowrd)\n",
    "response = requests.post('http://keycloak:8080/auth/realms/sunbird-rc/protocol/openid-connect/token', headers=headers, data=data)\n",
    "institute1Token = response.json()[\"access_token\"]\n",
    "institute1Token"
   ]
  },
  {
   "cell_type": "code",
   "execution_count": 17,
   "id": "55cf6997-369c-43b2-ad43-ff19cc67e81c",
   "metadata": {},
   "outputs": [
    {
     "data": {
      "text/plain": [
       "'14865764048'"
      ]
     },
     "execution_count": 17,
     "metadata": {},
     "output_type": "execute_result"
    }
   ],
   "source": [
    "teacher1Id =str(random.randint(1e10,1e11))\n",
    "teacher1Id"
   ]
  },
  {
   "cell_type": "markdown",
   "id": "f8fab8e9-3630-4b94-a8fa-cddf2c76f046",
   "metadata": {},
   "source": [
    "### Invite Teacher"
   ]
  },
  {
   "cell_type": "code",
   "execution_count": 18,
   "id": "470789f3-4295-4ce3-b4ed-e84ca9887ad3",
   "metadata": {},
   "outputs": [
    {
     "name": "stdout",
     "output_type": "stream",
     "text": [
      "b'{\"id\":\"sunbird-rc.registry.invite\",\"ver\":\"1.0\",\"ets\":1646139044239,\"params\":{\"resmsgid\":\"\",\"msgid\":\"418d6742-b754-4989-b7a7-cf613b06681b\",\"err\":\"\",\"status\":\"SUCCESSFUL\",\"errmsg\":\"\"},\"responseCode\":\"OK\",\"result\":{\"Teacher\":{\"osid\":\"1-84cf1bf1-5176-41af-bfbc-b02b7e992e98\"}}}'\n",
      "{'id': 'sunbird-rc.registry.invite', 'ver': '1.0', 'ets': 1646139044239, 'params': {'resmsgid': '', 'msgid': '418d6742-b754-4989-b7a7-cf613b06681b', 'err': '', 'status': 'SUCCESSFUL', 'errmsg': ''}, 'responseCode': 'OK', 'result': {'Teacher': {'osid': '1-84cf1bf1-5176-41af-bfbc-b02b7e992e98'}}}\n"
     ]
    },
    {
     "data": {
      "text/plain": [
       "'1-84cf1bf1-5176-41af-bfbc-b02b7e992e98'"
      ]
     },
     "execution_count": 18,
     "metadata": {},
     "output_type": "execute_result"
    }
   ],
   "source": [
    "headers = {\n",
    "    'content-type': 'application/json',\n",
    "    'authorization': 'bearer %s'%institute1Token,\n",
    "}\n",
    "resp = requests.post(\"%s%s\"%(base_url, teacherInvite), json=entityForTeacher(teacher1Id),headers= headers)\n",
    "print(resp.content)\n",
    "assert resp.status_code == 200\n",
    "print(resp.json())\n",
    "assert(resp.json()[\"id\"]==\"sunbird-rc.registry.invite\")\n",
    "assert resp.json()[\"params\"][\"status\"] == \"SUCCESSFUL\"\n",
    "entity_name=next(iter(resp.json()[\"result\"].keys()))\n",
    "assert \"Teacher\"==entity_name\n",
    "teacher1OsId = resp.json()[\"result\"][entity_name][\"osid\"]\n",
    "teacher1OsId"
   ]
  },
  {
   "cell_type": "markdown",
   "id": "68b45d2c-5137-44c1-a38c-5ac6c48ebf3d",
   "metadata": {},
   "source": [
    "## Invite 2nd Institute"
   ]
  },
  {
   "cell_type": "code",
   "execution_count": 19,
   "id": "fd0b8aea-33d7-4457-aba9-32526d36396d",
   "metadata": {},
   "outputs": [
    {
     "data": {
      "text/plain": [
       "'90508239224'"
      ]
     },
     "execution_count": 19,
     "metadata": {},
     "output_type": "execute_result"
    }
   ],
   "source": [
    "instituteId2 =str(random.randint(1e10,1e11))\n",
    "instituteId2"
   ]
  },
  {
   "cell_type": "code",
   "execution_count": 20,
   "id": "43fa0ddf-8a95-4f0e-b92e-ff46594b584d",
   "metadata": {},
   "outputs": [
    {
     "name": "stdout",
     "output_type": "stream",
     "text": [
      "b'{\"id\":\"sunbird-rc.registry.invite\",\"ver\":\"1.0\",\"ets\":1646139055487,\"params\":{\"resmsgid\":\"\",\"msgid\":\"21a20e02-706e-483f-9bc8-31c86d3416f3\",\"err\":\"\",\"status\":\"SUCCESSFUL\",\"errmsg\":\"\"},\"responseCode\":\"OK\",\"result\":{\"Institute\":{\"osid\":\"1-66030026-ee4e-43a1-8139-2bc7b706c451\"}}}'\n",
      "{'id': 'sunbird-rc.registry.invite', 'ver': '1.0', 'ets': 1646139055487, 'params': {'resmsgid': '', 'msgid': '21a20e02-706e-483f-9bc8-31c86d3416f3', 'err': '', 'status': 'SUCCESSFUL', 'errmsg': ''}, 'responseCode': 'OK', 'result': {'Institute': {'osid': '1-66030026-ee4e-43a1-8139-2bc7b706c451'}}}\n"
     ]
    },
    {
     "data": {
      "text/plain": [
       "'1-66030026-ee4e-43a1-8139-2bc7b706c451'"
      ]
     },
     "execution_count": 20,
     "metadata": {},
     "output_type": "execute_result"
    }
   ],
   "source": [
    "resp = requests.post(\"%s%s\"%(base_url, instituteInvite), json=entityForInstitute(instituteId2)\n",
    ")\n",
    "print(resp.content)\n",
    "assert resp.status_code == 200\n",
    "print(resp.json())\n",
    "assert(resp.json()[\"id\"]==\"sunbird-rc.registry.invite\")\n",
    "assert resp.json()[\"params\"][\"status\"] == \"SUCCESSFUL\"\n",
    "entity_name=next(iter(resp.json()[\"result\"].keys()))\n",
    "assert \"Institute\"==entity_name\n",
    "institute2OsId = resp.json()[\"result\"][entity_name][\"osid\"]\n",
    "institute2OsId"
   ]
  },
  {
   "cell_type": "markdown",
   "id": "91632f93-6d73-43f1-8511-ac8a2e2fa6ec",
   "metadata": {},
   "source": [
    "## Create Teacher 2 with Institute 2"
   ]
  },
  {
   "cell_type": "markdown",
   "id": "265782d5-9fb2-408b-a46c-c35b01c98601",
   "metadata": {},
   "source": [
    "### Get Institute 2 token"
   ]
  },
  {
   "cell_type": "code",
   "execution_count": 34,
   "id": "8b931edd-d532-40d5-a856-d360aa209636",
   "metadata": {},
   "outputs": [
    {
     "data": {
      "text/plain": [
       "'eyJhbGciOiJSUzI1NiIsInR5cCIgOiAiSldUIiwia2lkIiA6ICJZcGNvVHQ4bTBveXZkbjY4dU9icE0zX1REZWwzbXFhWXA5d19hX19PY3g0In0.eyJleHAiOjE2NDYxNDAyNDUsImlhdCI6MTY0NjEzOTY0NSwianRpIjoiNmU5Nzk1M2QtZTdhNy00NDUwLWJiYjUtMzVkZDJmNmM5NmU0IiwiaXNzIjoiaHR0cDovL2tleWNsb2FrOjgwODAvYXV0aC9yZWFsbXMvc3VuYmlyZC1yYyIsImF1ZCI6ImFjY291bnQiLCJzdWIiOiJjZjY3YjVkYy04NjZiLTQ0NTQtODM0Yy1lYjFiNDlmNGY5MDMiLCJ0eXAiOiJCZWFyZXIiLCJhenAiOiJyZWdpc3RyeS1mcm9udGVuZCIsInNlc3Npb25fc3RhdGUiOiIzZTgyMzQ4MC00MjVlLTQ5OGEtYTI5ZS1lODVjODQwMThiMmUiLCJhY3IiOiIxIiwiYWxsb3dlZC1vcmlnaW5zIjpbImh0dHBzOi8vbG9jYWxob3N0OjQyMDIiLCJodHRwOi8vbG9jYWxob3N0OjQyMDIiLCJodHRwczovL2xvY2FsaG9zdDo0MjAwIiwiaHR0cHM6Ly9uZGVhci54aXYuaW4iLCJodHRwOi8vbG9jYWxob3N0OjQyMDAiLCJodHRwOi8vbmRlYXIueGl2LmluIiwiaHR0cDovLzIwLjE5OC42NC4xMjgiXSwicmVhbG1fYWNjZXNzIjp7InJvbGVzIjpbImVkdS1hZG1pbiIsIm9mZmxpbmVfYWNjZXNzIiwidW1hX2F1dGhvcml6YXRpb24iLCJkZWZhdWx0LXJvbGVzLW5kZWFyIl19LCJyZXNvdXJjZV9hY2Nlc3MiOnsiYWNjb3VudCI6eyJyb2xlcyI6WyJtYW5hZ2UtYWNjb3VudCIsIm1hbmFnZS1hY2NvdW50LWxpbmtzIiwidmlldy1wcm9maWxlIl19fSwic2NvcGUiOiJwcm9maWxlIGVtYWlsIiwiZW1haWxfdmVyaWZpZWQiOmZhbHNlLCJwcmVmZXJyZWRfdXNlcm5hbWUiOiI5MDUwODIzOTIyNCIsImVudGl0eSI6WyJJbnN0aXR1dGUiXSwiZW1haWwiOiI5MDUwODIzOTIyNEBleGFtcGxlLmNvbSJ9.eyoJovmP0MCIu6WXAUy1Sisl6X_U1T0PwXJb8_P6bJ1hjvVZym3B7KrLsH-Xz2-xw8ftKmVP3JZNy1l1oEXzWruckw3h2INskmcf455ZN239ZErE_5_DSJBcqDBpcjoXbs0s2Lsg0cL2-jHL1m8pPjzBFj3-D4dMLhAdLPH5EB0jhjHmq6OdYjfDh4epxVJ66yT3PaJfusRqjKr8rXMjduVFPBpE0yS5BaSMDhOOtWu8JERv0kTObw-jqVNFjLS_Baixe9p3kTWxyS6MDWX8lpo_FKo7WLiEUUdt04LqOXMwmv6_0iaPE1pcVLPhrh2r4PW9U0i3aPfIrYu0s3a4UQ'"
      ]
     },
     "execution_count": 34,
     "metadata": {},
     "output_type": "execute_result"
    }
   ],
   "source": [
    "headers = {\n",
    "    'content-type': 'application/x-www-form-urlencoded',\n",
    "}\n",
    "data = getEntityPayload(instituteId2,defaultPassowrd)\n",
    "response = requests.post('http://keycloak:8080/auth/realms/sunbird-rc/protocol/openid-connect/token', headers=headers, data=data)\n",
    "institute2Token = response.json()[\"access_token\"]\n",
    "institute2Token"
   ]
  },
  {
   "cell_type": "markdown",
   "id": "019501b2-edbb-49ae-9adc-41b3914257de",
   "metadata": {},
   "source": [
    "### Create Managed Entity Teacher"
   ]
  },
  {
   "cell_type": "code",
   "execution_count": 22,
   "id": "95cba98e-593d-4956-9e28-165e4697802e",
   "metadata": {},
   "outputs": [],
   "source": [
    "entityToCreate = \"Teacher\""
   ]
  },
  {
   "cell_type": "code",
   "execution_count": 25,
   "id": "11ef6d73-698f-42c5-9f33-c0df7c58c24a",
   "metadata": {},
   "outputs": [
    {
     "data": {
      "text/plain": [
       "'79382525368'"
      ]
     },
     "execution_count": 25,
     "metadata": {},
     "output_type": "execute_result"
    }
   ],
   "source": [
    "teacherId2 =str(random.randint(1e10,1e11))\n",
    "teacherId2"
   ]
  },
  {
   "cell_type": "code",
   "execution_count": 23,
   "id": "fd078778-086a-4614-b844-d2411eb31209",
   "metadata": {},
   "outputs": [
    {
     "name": "stdout",
     "output_type": "stream",
     "text": [
      "http://localhost:8081/api/v1/Teacher\n"
     ]
    }
   ],
   "source": [
    "print(\"%s%s%s\"%(base_url,\"/api/v1/\",entityToCreate))"
   ]
  },
  {
   "cell_type": "code",
   "execution_count": 33,
   "id": "9602db25-0cb2-4edd-840e-a9a899be6065",
   "metadata": {},
   "outputs": [],
   "source": [
    "# headers = {\n",
    "#     'content-type': 'application/json',\n",
    "#     'authorization': 'bearer %s'%institute2Token,\n",
    "# }\n",
    "# resp = requests.post(\"%s%s%s\"%(base_url,\"/api/v1/\",entityToCreate), json=entityForTeacher(teacherId2),headers= headers)\n",
    "# print(resp.content)\n",
    "# assert resp.status_code == 200\n",
    "# print(resp.json())\n",
    "# assert(resp.json()[\"id\"]==\"sunbird-rc.registry.invite\")\n",
    "# assert resp.json()[\"params\"][\"status\"] == \"SUCCESSFUL\"\n",
    "# entity_name=next(iter(resp.json()[\"result\"].keys()))\n",
    "# assert \"Teacher\"==entity_name\n",
    "# teacher2OsId = resp.json()[\"result\"][entity_name][\"osid\"]\n",
    "# teacher2OsId"
   ]
  },
  {
   "cell_type": "markdown",
   "id": "5a722e30-3f2d-46ab-af78-18f82f6b4554",
   "metadata": {},
   "source": [
    "## Delete Teacher 2 with Institute 2"
   ]
  },
  {
   "cell_type": "code",
   "execution_count": 22,
   "id": "19fee066-a5c8-41c4-a3a1-fb555c16dcbb",
   "metadata": {},
   "outputs": [],
   "source": [
    "entityToDelete = \"Teacher\""
   ]
  },
  {
   "cell_type": "code",
   "execution_count": null,
   "id": "a8e1f7f1-45f4-4a29-a482-cb9102c66aea",
   "metadata": {},
   "outputs": [],
   "source": [
    "# headers = {\n",
    "#     'content-type': 'application/json',\n",
    "#     'authorization': 'bearer %s'%institute2Token,\n",
    "# }\n",
    "# resp = requests.delete(\"%s/api/v1/%s/%s\"%(base_url,entityToDelete,teacher2OsId),headers= headers)\n",
    "# resp.json()"
   ]
  },
  {
   "cell_type": "markdown",
   "id": "b3c73852-d103-46fa-8577-96d887f5de58",
   "metadata": {},
   "source": [
    "## Delete Teacher 1 with Institute 1"
   ]
  },
  {
   "cell_type": "code",
   "execution_count": 23,
   "id": "2413c63a-1e86-4dfb-83cd-1079a3741786",
   "metadata": {},
   "outputs": [
    {
     "data": {
      "text/plain": [
       "{'id': 'sunbird-rc.registry.delete',\n",
       " 'ver': '1.0',\n",
       " 'ets': 1646139101603,\n",
       " 'params': {'resmsgid': '',\n",
       "  'msgid': 'b38a55f7-faf8-494e-a1ed-935a5ecad9b4',\n",
       "  'err': '',\n",
       "  'status': 'SUCCESSFUL',\n",
       "  'errmsg': ''},\n",
       " 'responseCode': 'OK'}"
      ]
     },
     "execution_count": 23,
     "metadata": {},
     "output_type": "execute_result"
    }
   ],
   "source": [
    "headers = {\n",
    "    'content-type': 'application/json',\n",
    "    'authorization': 'bearer %s'%institute1Token,\n",
    "}\n",
    "resp = requests.delete(\"%s/api/v1/%s/%s\"%(base_url,\"Teacher\",teacher1OsId),headers= headers)\n",
    "resp.json()\n",
    "assert resp.status_code== 200"
   ]
  },
  {
   "cell_type": "markdown",
   "id": "63cf83ea-79e0-4e84-8232-cc7f50aecd71",
   "metadata": {},
   "source": [
    "### Should get 401 bad request when try GET the deleted Teacher token"
   ]
  },
  {
   "cell_type": "code",
   "execution_count": 29,
   "id": "7b159824-cb26-43a1-b4bf-2d362dabeaf7",
   "metadata": {},
   "outputs": [],
   "source": [
    "headers = {\n",
    "    'content-type': 'application/x-www-form-urlencoded',\n",
    "}\n",
    "data = getEntityPayload(teacher1OsId,defaultPassowrd)\n",
    "response = requests.post('http://keycloak:8080/auth/realms/sunbird-rc/protocol/openid-connect/token', headers=headers, data=data)\n",
    "response.json()\n",
    "assert response.status_code == 401\n",
    "assert response.json()['error_description'] == 'Invalid user credentials'"
   ]
  },
  {
   "cell_type": "markdown",
   "id": "317474bc-5b5f-4df5-81dc-2c6d267ebb5a",
   "metadata": {},
   "source": [
    "## Delete Institute 2 itself"
   ]
  },
  {
   "cell_type": "code",
   "execution_count": 37,
   "id": "a1a99f76-f1a2-4094-b3e1-f68feb5e807a",
   "metadata": {},
   "outputs": [
    {
     "data": {
      "text/plain": [
       "{'id': 'sunbird-rc.registry.update',\n",
       " 'ver': '1.0',\n",
       " 'ets': 1646139697937,\n",
       " 'params': {'resmsgid': '',\n",
       "  'msgid': 'a0921a7f-e021-4204-95ea-2cefecb27aa7',\n",
       "  'err': '',\n",
       "  'status': 'UNSUCCESSFUL',\n",
       "  'errmsg': 'entity status is inactive'},\n",
       " 'responseCode': 'OK'}"
      ]
     },
     "execution_count": 37,
     "metadata": {},
     "output_type": "execute_result"
    }
   ],
   "source": [
    "headers = {\n",
    "    'content-type': 'application/json',\n",
    "    'authorization': 'bearer %s'%institute2Token,\n",
    "}\n",
    "resp = requests.delete(\"%s/api/v1/%s/%s\"%(base_url,\"Institute\",institute2OsId),headers= headers)\n",
    "resp.json()"
   ]
  },
  {
   "cell_type": "markdown",
   "id": "d403acae-e543-4002-8a4a-a61ed6f9b564",
   "metadata": {},
   "source": [
    "### Should get 401 bad request when try GET the deleted Institute token"
   ]
  },
  {
   "cell_type": "code",
   "execution_count": 38,
   "id": "8f946ad7-f2e1-47a0-b9ca-1cf0940ddc01",
   "metadata": {},
   "outputs": [],
   "source": [
    "headers = {\n",
    "    'content-type': 'application/x-www-form-urlencoded',\n",
    "}\n",
    "data = getEntityPayload(institute2OsId,defaultPassowrd)\n",
    "response = requests.post('http://keycloak:8080/auth/realms/sunbird-rc/protocol/openid-connect/token', headers=headers, data=data)\n",
    "assert response.status_code == 401\n",
    "assert response.json()['error_description'] == 'Invalid user credentials'"
   ]
  }
 ],
 "metadata": {
  "kernelspec": {
   "display_name": "Python 3 (ipykernel)",
   "language": "python",
   "name": "python3"
  },
  "language_info": {
   "codemirror_mode": {
    "name": "ipython",
    "version": 3
   },
   "file_extension": ".py",
   "mimetype": "text/x-python",
   "name": "python",
   "nbconvert_exporter": "python",
   "pygments_lexer": "ipython3",
   "version": "3.9.7"
  }
 },
 "nbformat": 4,
 "nbformat_minor": 5
}
